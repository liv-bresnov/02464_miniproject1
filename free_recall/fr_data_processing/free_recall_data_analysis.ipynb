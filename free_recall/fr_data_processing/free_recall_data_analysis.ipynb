{
 "cells": [
  {
   "cell_type": "markdown",
   "id": "6ab0723d",
   "metadata": {},
   "source": [
    "# Merge and read csv_files"
   ]
  },
  {
   "cell_type": "code",
   "execution_count": 30,
   "id": "d2e79cc5",
   "metadata": {},
   "outputs": [
    {
     "data": {
      "text/html": [
       "<div>\n",
       "<style scoped>\n",
       "    .dataframe tbody tr th:only-of-type {\n",
       "        vertical-align: middle;\n",
       "    }\n",
       "\n",
       "    .dataframe tbody tr th {\n",
       "        vertical-align: top;\n",
       "    }\n",
       "\n",
       "    .dataframe thead th {\n",
       "        text-align: right;\n",
       "    }\n",
       "</style>\n",
       "<table border=\"1\" class=\"dataframe\">\n",
       "  <thead>\n",
       "    <tr style=\"text-align: right;\">\n",
       "      <th></th>\n",
       "      <th>Name</th>\n",
       "      <th>Experiment</th>\n",
       "      <th>Trial</th>\n",
       "      <th>Sequence</th>\n",
       "      <th>Recall</th>\n",
       "    </tr>\n",
       "  </thead>\n",
       "  <tbody>\n",
       "    <tr>\n",
       "      <th>0</th>\n",
       "      <td>liv</td>\n",
       "      <td>FR</td>\n",
       "      <td>1</td>\n",
       "      <td>r j k e o n u q a v s b p l z</td>\n",
       "      <td>r j k e o n z</td>\n",
       "    </tr>\n",
       "    <tr>\n",
       "      <th>1</th>\n",
       "      <td>liv</td>\n",
       "      <td>FR</td>\n",
       "      <td>2</td>\n",
       "      <td>i b d v n q r l k h f u g s e</td>\n",
       "      <td>i b d v n q r s e</td>\n",
       "    </tr>\n",
       "    <tr>\n",
       "      <th>2</th>\n",
       "      <td>liv</td>\n",
       "      <td>FR</td>\n",
       "      <td>3</td>\n",
       "      <td>u r l y c s b g h q m e a f v</td>\n",
       "      <td>u r l y c s b g h f e</td>\n",
       "    </tr>\n",
       "    <tr>\n",
       "      <th>3</th>\n",
       "      <td>liv</td>\n",
       "      <td>FR</td>\n",
       "      <td>4</td>\n",
       "      <td>v b m p a z d r k s c u l g f</td>\n",
       "      <td>v b m p l g</td>\n",
       "    </tr>\n",
       "    <tr>\n",
       "      <th>4</th>\n",
       "      <td>liv</td>\n",
       "      <td>FR</td>\n",
       "      <td>5</td>\n",
       "      <td>o y v j z k i a p f c x t q r</td>\n",
       "      <td>o y v j z k p t r</td>\n",
       "    </tr>\n",
       "  </tbody>\n",
       "</table>\n",
       "</div>"
      ],
      "text/plain": [
       "  Name Experiment  Trial                       Sequence                 Recall\n",
       "0  liv         FR      1  r j k e o n u q a v s b p l z          r j k e o n z\n",
       "1  liv         FR      2  i b d v n q r l k h f u g s e      i b d v n q r s e\n",
       "2  liv         FR      3  u r l y c s b g h q m e a f v  u r l y c s b g h f e\n",
       "3  liv         FR      4  v b m p a z d r k s c u l g f            v b m p l g\n",
       "4  liv         FR      5  o y v j z k i a p f c x t q r      o y v j z k p t r"
      ]
     },
     "execution_count": 30,
     "metadata": {},
     "output_type": "execute_result"
    }
   ],
   "source": [
    "import pandas as pd\n",
    "import glob\n",
    "import os\n",
    "import numpy as np\n",
    "import matplotlib.pyplot as plt\n",
    "import scipy.stats as stats\n",
    "\n",
    "# Path to your folder\n",
    "folder_path = \"../../csv_files\"\n",
    "\n",
    "# Find all CSV files in the folder\n",
    "csv_files = glob.glob(os.path.join(folder_path, \"*.csv\"))\n",
    "\n",
    "# Read and concatenate all CSVs into one DataFrame\n",
    "df = pd.concat((pd.read_csv(file) for file in csv_files), ignore_index=True)\n",
    "\n",
    "# Show the combined DataFrame\n",
    "df = df[df[\"Experiment\"] == \"FR\"]\n",
    "#df=df[df['Name']=='else']\n",
    "df.head()"
   ]
  },
  {
   "cell_type": "markdown",
   "id": "a82e140f",
   "metadata": {},
   "source": [
    "# Get positions and amount of correct recall"
   ]
  },
  {
   "cell_type": "code",
   "execution_count": 31,
   "id": "62592850",
   "metadata": {},
   "outputs": [
    {
     "data": {
      "text/html": [
       "<div>\n",
       "<style scoped>\n",
       "    .dataframe tbody tr th:only-of-type {\n",
       "        vertical-align: middle;\n",
       "    }\n",
       "\n",
       "    .dataframe tbody tr th {\n",
       "        vertical-align: top;\n",
       "    }\n",
       "\n",
       "    .dataframe thead th {\n",
       "        text-align: right;\n",
       "    }\n",
       "</style>\n",
       "<table border=\"1\" class=\"dataframe\">\n",
       "  <thead>\n",
       "    <tr style=\"text-align: right;\">\n",
       "      <th></th>\n",
       "      <th>Name</th>\n",
       "      <th>Experiment</th>\n",
       "      <th>Trial</th>\n",
       "      <th>Sequence</th>\n",
       "      <th>Recall</th>\n",
       "      <th>Position correct recall</th>\n",
       "      <th>Amount of correct guesses</th>\n",
       "    </tr>\n",
       "  </thead>\n",
       "  <tbody>\n",
       "    <tr>\n",
       "      <th>0</th>\n",
       "      <td>liv</td>\n",
       "      <td>FR</td>\n",
       "      <td>1</td>\n",
       "      <td>r j k e o n u q a v s b p l z</td>\n",
       "      <td>r j k e o n z</td>\n",
       "      <td>0 1 2 3 4 5 14</td>\n",
       "      <td>7</td>\n",
       "    </tr>\n",
       "    <tr>\n",
       "      <th>1</th>\n",
       "      <td>liv</td>\n",
       "      <td>FR</td>\n",
       "      <td>2</td>\n",
       "      <td>i b d v n q r l k h f u g s e</td>\n",
       "      <td>i b d v n q r s e</td>\n",
       "      <td>0 1 2 3 4 5 6 13 14</td>\n",
       "      <td>9</td>\n",
       "    </tr>\n",
       "    <tr>\n",
       "      <th>2</th>\n",
       "      <td>liv</td>\n",
       "      <td>FR</td>\n",
       "      <td>3</td>\n",
       "      <td>u r l y c s b g h q m e a f v</td>\n",
       "      <td>u r l y c s b g h f e</td>\n",
       "      <td>0 1 2 3 4 5 6 7 8 11 13</td>\n",
       "      <td>11</td>\n",
       "    </tr>\n",
       "    <tr>\n",
       "      <th>3</th>\n",
       "      <td>liv</td>\n",
       "      <td>FR</td>\n",
       "      <td>4</td>\n",
       "      <td>v b m p a z d r k s c u l g f</td>\n",
       "      <td>v b m p l g</td>\n",
       "      <td>0 1 2 3 12 13</td>\n",
       "      <td>6</td>\n",
       "    </tr>\n",
       "    <tr>\n",
       "      <th>4</th>\n",
       "      <td>liv</td>\n",
       "      <td>FR</td>\n",
       "      <td>5</td>\n",
       "      <td>o y v j z k i a p f c x t q r</td>\n",
       "      <td>o y v j z k p t r</td>\n",
       "      <td>0 1 2 3 4 5 8 12 14</td>\n",
       "      <td>9</td>\n",
       "    </tr>\n",
       "  </tbody>\n",
       "</table>\n",
       "</div>"
      ],
      "text/plain": [
       "  Name Experiment  Trial                       Sequence  \\\n",
       "0  liv         FR      1  r j k e o n u q a v s b p l z   \n",
       "1  liv         FR      2  i b d v n q r l k h f u g s e   \n",
       "2  liv         FR      3  u r l y c s b g h q m e a f v   \n",
       "3  liv         FR      4  v b m p a z d r k s c u l g f   \n",
       "4  liv         FR      5  o y v j z k i a p f c x t q r   \n",
       "\n",
       "                  Recall  Position correct recall  Amount of correct guesses  \n",
       "0          r j k e o n z           0 1 2 3 4 5 14                          7  \n",
       "1      i b d v n q r s e      0 1 2 3 4 5 6 13 14                          9  \n",
       "2  u r l y c s b g h f e  0 1 2 3 4 5 6 7 8 11 13                         11  \n",
       "3            v b m p l g            0 1 2 3 12 13                          6  \n",
       "4      o y v j z k p t r      0 1 2 3 4 5 8 12 14                          9  "
      ]
     },
     "execution_count": 31,
     "metadata": {},
     "output_type": "execute_result"
    }
   ],
   "source": [
    "def add_position_and_correct_guesses(df, sequence_col=\"Sequence\", recall_col=\"Recall\"):\n",
    "    # Helper function to get correct positions as a string\n",
    "    def get_positions(row):\n",
    "        s = row[sequence_col].split()\n",
    "        r = row[recall_col].split()\n",
    "        positions = []\n",
    "        for i, word in enumerate(s):\n",
    "            if word in r:\n",
    "                positions.append(str(i))\n",
    "        return \" \".join(positions)\n",
    "\n",
    "    # Add column with correct positions\n",
    "    df[\"Position correct recall\"] = df.apply(get_positions, axis=1)\n",
    "    # Add column with amount of correct guesses\n",
    "    df[\"Amount of correct guesses\"] = df[\"Position correct recall\"].apply(lambda x: len(x.split()))\n",
    "    return df\n",
    "\n",
    "df = add_position_and_correct_guesses(df)\n",
    "df.head()"
   ]
  },
  {
   "cell_type": "markdown",
   "id": "72427d59",
   "metadata": {},
   "source": [
    "# Primacy and recency effect"
   ]
  },
  {
   "cell_type": "code",
   "execution_count": 32,
   "id": "a9bb7427",
   "metadata": {},
   "outputs": [
    {
     "name": "stdout",
     "output_type": "stream",
     "text": [
      "Amount of FR experiments: 80\n",
      "Average ammount of correct per experiment: 9.0125\n"
     ]
    }
   ],
   "source": [
    "# Total amount of FR experiments done\n",
    "amount_of_experiments = df.shape[0]\n",
    "print(\"Amount of FR experiments:\", amount_of_experiments)\n",
    "\n",
    "# Combine the lists of the correct positions to 1 big list\n",
    "all_correct_positions= []\n",
    "for row in df[\"Position correct recall\"]:\n",
    "    row = row.split()\n",
    "    all_correct_positions.extend(row)\n",
    "all_correct_positions = [int(x) for x in all_correct_positions]\n",
    "\n",
    "# Average correct\n",
    "average_correct = len(all_correct_positions) / amount_of_experiments\n",
    "print(\"Average ammount of correct per experiment:\", average_correct)\n",
    "\n",
    "# Count of correct guesses for each position\n",
    "correct_per_position= [all_correct_positions.count(position) for position in range(15)]\n",
    "\n",
    "# Percent correct at each position out of all experiments\n",
    "position_correct_percent = [corrects/amount_of_experiments*100 for corrects in correct_per_position] "
   ]
  },
  {
   "cell_type": "code",
   "execution_count": 35,
   "id": "61e56c10",
   "metadata": {},
   "outputs": [
    {
     "name": "stdout",
     "output_type": "stream",
     "text": [
      "[75.0, 76.25, 68.75, 56.25, 60.0, 53.75, 51.24999999999999, 41.25, 50.0, 55.00000000000001, 48.75, 53.75, 65.0, 70.0, 76.25]\n"
     ]
    }
   ],
   "source": [
    "print(position_correct_percent)"
   ]
  },
  {
   "cell_type": "code",
   "execution_count": 5,
   "id": "e822c452",
   "metadata": {},
   "outputs": [
    {
     "data": {
      "text/plain": [
       "Text(0.5, 1.0, 'Standard Free Recall')"
      ]
     },
     "execution_count": 5,
     "metadata": {},
     "output_type": "execute_result"
    },
    {
     "data": {
      "image/png": "[encoded data removed]",
      "text/plain": [
       "<Figure size 640x480 with 1 Axes>"
      ]
     },
     "metadata": {},
     "output_type": "display_data"
    }
   ],
   "source": [
    "plt.plot(position_correct_percent, marker=\"o\")\n",
    "plt.xlabel(\"Serial position\")\n",
    "plt.ylim(0,100)\n",
    "plt.ylabel(\"Percent recall\")\n",
    "plt.title(\"Standard Free Recall\")"
   ]
  },
  {
   "cell_type": "markdown",
   "id": "66b6c3b9",
   "metadata": {},
   "source": [
    "# Confidence Interval for amount of correct guesses"
   ]
  },
  {
   "cell_type": "code",
   "execution_count": 33,
   "id": "53a3a86a",
   "metadata": {},
   "outputs": [
    {
     "data": {
      "text/plain": [
       "array([ 7,  9, 11,  6,  9,  9, 10,  6,  7,  8, 10,  8, 10,  8,  8,  6,  8,\n",
       "        8, 11, 10,  8,  8,  8,  9, 10,  7, 10,  8,  8,  9,  9,  7,  7,  9,\n",
       "       10,  9,  8,  9,  9, 11,  9, 11, 10,  9, 14, 11, 13, 11, 12, 11,  9,\n",
       "       11, 12, 11, 11, 14, 12, 13,  9, 11, 10, 10,  9,  7,  6,  7,  6,  7,\n",
       "        7,  7, 10,  9,  6,  7,  7,  8,  8,  7,  7, 10], dtype=int64)"
      ]
     },
     "execution_count": 33,
     "metadata": {},
     "output_type": "execute_result"
    }
   ],
   "source": [
    "num_correct_in_experiments=df[\"Amount of correct guesses\"].to_numpy()\n",
    "num_correct_in_experiments"
   ]
  },
  {
   "cell_type": "code",
   "execution_count": 34,
   "id": "dafc7bf8",
   "metadata": {},
   "outputs": [
    {
     "data": {
      "text/plain": [
       "(8.586869924287667, 9.438130075712332)"
      ]
     },
     "execution_count": 34,
     "metadata": {},
     "output_type": "execute_result"
    }
   ],
   "source": [
    "x = num_correct_in_experiments\n",
    "stats.t.interval(0.95, df = len(x)-1 , loc = x.mean(), scale = x.std(ddof=1)/np.sqrt(len(x)))"
   ]
  },
  {
   "cell_type": "markdown",
   "id": "eeec9e45",
   "metadata": {},
   "source": [
    "The confidence interval for the mean of correct guesses for the Standard FR experiment is:"
   ]
  },
  {
   "cell_type": "markdown",
   "id": "8aff476a",
   "metadata": {},
   "source": [
    "$[8.59 : 9.438]$"
   ]
  }
 ],
 "metadata": {
  "kernelspec": {
   "display_name": "base",
   "language": "python",
   "name": "python3"
  },
  "language_info": {
   "codemirror_mode": {
    "name": "ipython",
    "version": 3
   },
   "file_extension": ".py",
   "mimetype": "text/x-python",
   "name": "python",
   "nbconvert_exporter": "python",
   "pygments_lexer": "ipython3",
   "version": "3.12.11"
  }
 },
 "nbformat": 4,
 "nbformat_minor": 5
}

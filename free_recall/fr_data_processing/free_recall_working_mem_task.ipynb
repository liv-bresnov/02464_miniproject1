{
 "cells": [
  {
   "cell_type": "markdown",
   "id": "13833cfe",
   "metadata": {},
   "source": [
    "# Merge and read csv_files"
   ]
  },
  {
   "cell_type": "code",
   "execution_count": 1,
   "id": "8eaf734f",
   "metadata": {},
   "outputs": [
    {
     "data": {
      "text/html": [
       "<div>\n",
       "<style scoped>\n",
       "    .dataframe tbody tr th:only-of-type {\n",
       "        vertical-align: middle;\n",
       "    }\n",
       "\n",
       "    .dataframe tbody tr th {\n",
       "        vertical-align: top;\n",
       "    }\n",
       "\n",
       "    .dataframe thead th {\n",
       "        text-align: right;\n",
       "    }\n",
       "</style>\n",
       "<table border=\"1\" class=\"dataframe\">\n",
       "  <thead>\n",
       "    <tr style=\"text-align: right;\">\n",
       "      <th></th>\n",
       "      <th>Name</th>\n",
       "      <th>Experiment</th>\n",
       "      <th>Trial</th>\n",
       "      <th>Sequence</th>\n",
       "      <th>Recall</th>\n",
       "    </tr>\n",
       "  </thead>\n",
       "  <tbody>\n",
       "    <tr>\n",
       "      <th>80</th>\n",
       "      <td>liv</td>\n",
       "      <td>FR_working_mem_task</td>\n",
       "      <td>1</td>\n",
       "      <td>h v i t m u g z e f d p y a r</td>\n",
       "      <td>h v i t m u g p a r</td>\n",
       "    </tr>\n",
       "    <tr>\n",
       "      <th>81</th>\n",
       "      <td>liv</td>\n",
       "      <td>FR_working_mem_task</td>\n",
       "      <td>1</td>\n",
       "      <td>m h z n t r u j a x e k s o c</td>\n",
       "      <td>m h z n t r</td>\n",
       "    </tr>\n",
       "    <tr>\n",
       "      <th>82</th>\n",
       "      <td>liv</td>\n",
       "      <td>FR_working_mem_task</td>\n",
       "      <td>2</td>\n",
       "      <td>h k o x c j v d g i u t s f n</td>\n",
       "      <td>h j g n t n t o x</td>\n",
       "    </tr>\n",
       "    <tr>\n",
       "      <th>83</th>\n",
       "      <td>liv</td>\n",
       "      <td>FR_working_mem_task</td>\n",
       "      <td>3</td>\n",
       "      <td>k n q j s e m i v h d z x c l</td>\n",
       "      <td>h j s e m i c l</td>\n",
       "    </tr>\n",
       "    <tr>\n",
       "      <th>84</th>\n",
       "      <td>liv</td>\n",
       "      <td>FR_working_mem_task</td>\n",
       "      <td>4</td>\n",
       "      <td>j e f x h m p y t b a q g o i</td>\n",
       "      <td>f x b a g o i</td>\n",
       "    </tr>\n",
       "  </tbody>\n",
       "</table>\n",
       "</div>"
      ],
      "text/plain": [
       "   Name           Experiment  Trial                       Sequence  \\\n",
       "80  liv  FR_working_mem_task      1  h v i t m u g z e f d p y a r   \n",
       "81  liv  FR_working_mem_task      1  m h z n t r u j a x e k s o c   \n",
       "82  liv  FR_working_mem_task      2  h k o x c j v d g i u t s f n   \n",
       "83  liv  FR_working_mem_task      3  k n q j s e m i v h d z x c l   \n",
       "84  liv  FR_working_mem_task      4  j e f x h m p y t b a q g o i   \n",
       "\n",
       "                 Recall  \n",
       "80  h v i t m u g p a r  \n",
       "81          m h z n t r  \n",
       "82    h j g n t n t o x  \n",
       "83      h j s e m i c l  \n",
       "84        f x b a g o i  "
      ]
     },
     "execution_count": 1,
     "metadata": {},
     "output_type": "execute_result"
    }
   ],
   "source": [
    "import pandas as pd\n",
    "import glob\n",
    "import os\n",
    "import numpy as np\n",
    "import matplotlib.pyplot as plt\n",
    "import scipy.stats as stats\n",
    "\n",
    "# Path to your folder\n",
    "folder_path = \"../../csv_files\"\n",
    "\n",
    "# Find all CSV files in the folder\n",
    "csv_files = glob.glob(os.path.join(folder_path, \"*.csv\"))\n",
    "\n",
    "# Read and concatenate all CSVs into one DataFrame\n",
    "df = pd.concat((pd.read_csv(file) for file in csv_files), ignore_index=True)\n",
    "\n",
    "# Show the combined DataFrame\n",
    "df = df[df[\"Experiment\"] == \"FR_working_mem_task\"]\n",
    "df.head()"
   ]
  },
  {
   "cell_type": "markdown",
   "id": "ad178839",
   "metadata": {},
   "source": [
    "# Get positions and amount of correct recall"
   ]
  },
  {
   "cell_type": "code",
   "execution_count": 2,
   "id": "43eb3ad6",
   "metadata": {},
   "outputs": [
    {
     "data": {
      "text/html": [
       "<div>\n",
       "<style scoped>\n",
       "    .dataframe tbody tr th:only-of-type {\n",
       "        vertical-align: middle;\n",
       "    }\n",
       "\n",
       "    .dataframe tbody tr th {\n",
       "        vertical-align: top;\n",
       "    }\n",
       "\n",
       "    .dataframe thead th {\n",
       "        text-align: right;\n",
       "    }\n",
       "</style>\n",
       "<table border=\"1\" class=\"dataframe\">\n",
       "  <thead>\n",
       "    <tr style=\"text-align: right;\">\n",
       "      <th></th>\n",
       "      <th>Name</th>\n",
       "      <th>Experiment</th>\n",
       "      <th>Trial</th>\n",
       "      <th>Sequence</th>\n",
       "      <th>Recall</th>\n",
       "      <th>Position correct recall</th>\n",
       "      <th>Amount of correct guesses</th>\n",
       "    </tr>\n",
       "  </thead>\n",
       "  <tbody>\n",
       "    <tr>\n",
       "      <th>80</th>\n",
       "      <td>liv</td>\n",
       "      <td>FR_working_mem_task</td>\n",
       "      <td>1</td>\n",
       "      <td>h v i t m u g z e f d p y a r</td>\n",
       "      <td>h v i t m u g p a r</td>\n",
       "      <td>0 1 2 3 4 5 6 11 13 14</td>\n",
       "      <td>10</td>\n",
       "    </tr>\n",
       "    <tr>\n",
       "      <th>81</th>\n",
       "      <td>liv</td>\n",
       "      <td>FR_working_mem_task</td>\n",
       "      <td>1</td>\n",
       "      <td>m h z n t r u j a x e k s o c</td>\n",
       "      <td>m h z n t r</td>\n",
       "      <td>0 1 2 3 4 5</td>\n",
       "      <td>6</td>\n",
       "    </tr>\n",
       "    <tr>\n",
       "      <th>82</th>\n",
       "      <td>liv</td>\n",
       "      <td>FR_working_mem_task</td>\n",
       "      <td>2</td>\n",
       "      <td>h k o x c j v d g i u t s f n</td>\n",
       "      <td>h j g n t n t o x</td>\n",
       "      <td>0 2 3 5 8 11 14</td>\n",
       "      <td>7</td>\n",
       "    </tr>\n",
       "    <tr>\n",
       "      <th>83</th>\n",
       "      <td>liv</td>\n",
       "      <td>FR_working_mem_task</td>\n",
       "      <td>3</td>\n",
       "      <td>k n q j s e m i v h d z x c l</td>\n",
       "      <td>h j s e m i c l</td>\n",
       "      <td>3 4 5 6 7 9 13 14</td>\n",
       "      <td>8</td>\n",
       "    </tr>\n",
       "    <tr>\n",
       "      <th>84</th>\n",
       "      <td>liv</td>\n",
       "      <td>FR_working_mem_task</td>\n",
       "      <td>4</td>\n",
       "      <td>j e f x h m p y t b a q g o i</td>\n",
       "      <td>f x b a g o i</td>\n",
       "      <td>2 3 9 10 12 13 14</td>\n",
       "      <td>7</td>\n",
       "    </tr>\n",
       "  </tbody>\n",
       "</table>\n",
       "</div>"
      ],
      "text/plain": [
       "   Name           Experiment  Trial                       Sequence  \\\n",
       "80  liv  FR_working_mem_task      1  h v i t m u g z e f d p y a r   \n",
       "81  liv  FR_working_mem_task      1  m h z n t r u j a x e k s o c   \n",
       "82  liv  FR_working_mem_task      2  h k o x c j v d g i u t s f n   \n",
       "83  liv  FR_working_mem_task      3  k n q j s e m i v h d z x c l   \n",
       "84  liv  FR_working_mem_task      4  j e f x h m p y t b a q g o i   \n",
       "\n",
       "                 Recall Position correct recall  Amount of correct guesses  \n",
       "80  h v i t m u g p a r  0 1 2 3 4 5 6 11 13 14                         10  \n",
       "81          m h z n t r             0 1 2 3 4 5                          6  \n",
       "82    h j g n t n t o x         0 2 3 5 8 11 14                          7  \n",
       "83      h j s e m i c l       3 4 5 6 7 9 13 14                          8  \n",
       "84        f x b a g o i       2 3 9 10 12 13 14                          7  "
      ]
     },
     "execution_count": 2,
     "metadata": {},
     "output_type": "execute_result"
    }
   ],
   "source": [
    "def add_position_and_correct_guesses(df, sequence_col=\"Sequence\", recall_col=\"Recall\"):\n",
    "    # Helper function to get correct positions as a string\n",
    "    def get_positions(row):\n",
    "        s = row[sequence_col].split()\n",
    "        r = row[recall_col].split()\n",
    "        positions = []\n",
    "        for i, word in enumerate(s):\n",
    "            if word in r:\n",
    "                positions.append(str(i))\n",
    "        return \" \".join(positions)\n",
    "\n",
    "    # Add column with correct positions\n",
    "    df[\"Position correct recall\"] = df.apply(get_positions, axis=1)\n",
    "    # Add column with amount of correct guesses\n",
    "    df[\"Amount of correct guesses\"] = df[\"Position correct recall\"].apply(lambda x: len(x.split()))\n",
    "    return df\n",
    "\n",
    "df = add_position_and_correct_guesses(df)\n",
    "df.head()"
   ]
  },
  {
   "cell_type": "markdown",
   "id": "232038db",
   "metadata": {},
   "source": [
    "# Primacy and recency effect"
   ]
  },
  {
   "cell_type": "code",
   "execution_count": 3,
   "id": "145ceb35",
   "metadata": {},
   "outputs": [
    {
     "name": "stdout",
     "output_type": "stream",
     "text": [
      "Amount of FR experiments: 60\n",
      "Average ammount of correct per experiment: 7.283333333333333\n"
     ]
    }
   ],
   "source": [
    "# Total amount of FR experiments done\n",
    "amount_of_experiments = df.shape[0]\n",
    "print(\"Amount of FR experiments:\", amount_of_experiments)\n",
    "\n",
    "# Combine the lists of the correct positions to 1 big list\n",
    "all_correct_positions= []\n",
    "for row in df[\"Position correct recall\"]:\n",
    "    row = row.split()\n",
    "    all_correct_positions.extend(row)\n",
    "all_correct_positions = [int(x) for x in all_correct_positions]\n",
    "\n",
    "# Average correct\n",
    "average_correct = len(all_correct_positions) / amount_of_experiments\n",
    "print(\"Average ammount of correct per experiment:\", average_correct)\n",
    "\n",
    "# Count of correct guesses for each position\n",
    "correct_per_position= [all_correct_positions.count(position) for position in range(15)]\n",
    "\n",
    "# Percent correct at each position out of all experiments\n",
    "position_correct_percent = [corrects/amount_of_experiments*100 for corrects in correct_per_position] "
   ]
  },
  {
   "cell_type": "code",
   "execution_count": 7,
   "id": "c7fee0a5",
   "metadata": {},
   "outputs": [
    {
     "data": {
      "text/plain": [
       "Text(0.5, 1.0, 'Free Recall Working Memory Task')"
      ]
     },
     "execution_count": 7,
     "metadata": {},
     "output_type": "execute_result"
    },
    {
     "data": {
      "image/png": "[encoded data removed]",
      "text/plain": [
       "<Figure size 640x480 with 1 Axes>"
      ]
     },
     "metadata": {},
     "output_type": "display_data"
    }
   ],
   "source": [
    "plt.plot(position_correct_percent, marker=\"o\")\n",
    "plt.xlabel(\"Serial position\")\n",
    "plt.ylim(0,100)\n",
    "plt.ylabel(\"Percent recall\")\n",
    "plt.title(\"Free Recall Working Memory Task\")"
   ]
  },
  {
   "cell_type": "markdown",
   "id": "3e39678b",
   "metadata": {},
   "source": [
    "# Confidence Interval for amount of correct guesses"
   ]
  },
  {
   "cell_type": "code",
   "execution_count": 5,
   "id": "23bc3514",
   "metadata": {},
   "outputs": [
    {
     "data": {
      "text/plain": [
       "array([10,  6,  7,  8,  7,  7,  6,  7,  4,  5,  9, 10,  8,  9,  9, 10,  8,\n",
       "        9,  9,  8,  8,  7,  9, 10, 10,  9,  8,  7, 12,  7, 10,  8,  6, 10,\n",
       "       11,  7,  8,  9,  8, 10,  7,  6,  6,  5,  3,  7,  6,  4,  6,  6,  5,\n",
       "        6,  4,  8,  6,  3,  5,  4,  5,  5], dtype=int64)"
      ]
     },
     "execution_count": 5,
     "metadata": {},
     "output_type": "execute_result"
    }
   ],
   "source": [
    "num_correct_in_experiments=df[\"Amount of correct guesses\"].to_numpy()\n",
    "num_correct_in_experiments"
   ]
  },
  {
   "cell_type": "code",
   "execution_count": 6,
   "id": "a5c63e49",
   "metadata": {},
   "outputs": [
    {
     "data": {
      "text/plain": [
       "ConfidenceInterval(low=6.749257846633434, high=7.817408820033233)"
      ]
     },
     "execution_count": 6,
     "metadata": {},
     "output_type": "execute_result"
    }
   ],
   "source": [
    "x=num_correct_in_experiments\n",
    "stats.ttest_1samp(x,popmean= np.mean(x)).confidence_interval(confidence_level=0.95)"
   ]
  },
  {
   "cell_type": "markdown",
   "id": "dd5d5dac",
   "metadata": {},
   "source": [
    "The mean of correct guessses for the working memory free recall \\n\n",
    "$[6.75:7.82]$"
   ]
  }
 ],
 "metadata": {
  "kernelspec": {
   "display_name": "base",
   "language": "python",
   "name": "python3"
  },
  "language_info": {
   "codemirror_mode": {
    "name": "ipython",
    "version": 3
   },
   "file_extension": ".py",
   "mimetype": "text/x-python",
   "name": "python",
   "nbconvert_exporter": "python",
   "pygments_lexer": "ipython3",
   "version": "3.12.11"
  }
 },
 "nbformat": 4,
 "nbformat_minor": 5
}

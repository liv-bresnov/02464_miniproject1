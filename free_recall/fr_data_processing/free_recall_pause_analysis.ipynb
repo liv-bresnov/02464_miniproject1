{
 "cells": [
  {
   "cell_type": "markdown",
   "id": "0d58b09b",
   "metadata": {},
   "source": [
    "# Merge and read csv_files"
   ]
  },
  {
   "cell_type": "code",
   "execution_count": 1,
   "id": "47036393",
   "metadata": {},
   "outputs": [
    {
     "data": {
      "text/html": [
       "<div>\n",
       "<style scoped>\n",
       "    .dataframe tbody tr th:only-of-type {\n",
       "        vertical-align: middle;\n",
       "    }\n",
       "\n",
       "    .dataframe tbody tr th {\n",
       "        vertical-align: top;\n",
       "    }\n",
       "\n",
       "    .dataframe thead th {\n",
       "        text-align: right;\n",
       "    }\n",
       "</style>\n",
       "<table border=\"1\" class=\"dataframe\">\n",
       "  <thead>\n",
       "    <tr style=\"text-align: right;\">\n",
       "      <th></th>\n",
       "      <th>Name</th>\n",
       "      <th>Experiment</th>\n",
       "      <th>Trial</th>\n",
       "      <th>Sequence</th>\n",
       "      <th>Recall</th>\n",
       "    </tr>\n",
       "  </thead>\n",
       "  <tbody>\n",
       "    <tr>\n",
       "      <th>60</th>\n",
       "      <td>liv</td>\n",
       "      <td>FR_pause</td>\n",
       "      <td>1</td>\n",
       "      <td>p b c n y j o d x s t h g z f</td>\n",
       "      <td>p b c r y o d x f</td>\n",
       "    </tr>\n",
       "    <tr>\n",
       "      <th>61</th>\n",
       "      <td>liv</td>\n",
       "      <td>FR_pause</td>\n",
       "      <td>2</td>\n",
       "      <td>c u g p a j d r s f e k z q l</td>\n",
       "      <td>c u g p a j x</td>\n",
       "    </tr>\n",
       "    <tr>\n",
       "      <th>62</th>\n",
       "      <td>liv</td>\n",
       "      <td>FR_pause</td>\n",
       "      <td>3</td>\n",
       "      <td>a q k h s v e c y p j d i o f</td>\n",
       "      <td>a q k r s i d f</td>\n",
       "    </tr>\n",
       "    <tr>\n",
       "      <th>63</th>\n",
       "      <td>liv</td>\n",
       "      <td>FR_pause</td>\n",
       "      <td>4</td>\n",
       "      <td>h i j k r g m s q e t u l o p</td>\n",
       "      <td>h i j k m s p u l o</td>\n",
       "    </tr>\n",
       "    <tr>\n",
       "      <th>64</th>\n",
       "      <td>liv</td>\n",
       "      <td>FR_pause</td>\n",
       "      <td>5</td>\n",
       "      <td>j k e s i p r u o d a y v h n</td>\n",
       "      <td>j k e s p r o u d</td>\n",
       "    </tr>\n",
       "  </tbody>\n",
       "</table>\n",
       "</div>"
      ],
      "text/plain": [
       "   Name Experiment  Trial                       Sequence               Recall\n",
       "60  liv   FR_pause      1  p b c n y j o d x s t h g z f    p b c r y o d x f\n",
       "61  liv   FR_pause      2  c u g p a j d r s f e k z q l        c u g p a j x\n",
       "62  liv   FR_pause      3  a q k h s v e c y p j d i o f      a q k r s i d f\n",
       "63  liv   FR_pause      4  h i j k r g m s q e t u l o p  h i j k m s p u l o\n",
       "64  liv   FR_pause      5  j k e s i p r u o d a y v h n    j k e s p r o u d"
      ]
     },
     "execution_count": 1,
     "metadata": {},
     "output_type": "execute_result"
    }
   ],
   "source": [
    "import pandas as pd\n",
    "import glob\n",
    "import os\n",
    "import numpy as np\n",
    "import matplotlib.pyplot as plt\n",
    "import scipy.stats as stats\n",
    "\n",
    "# Path to your folder\n",
    "folder_path = \"../../csv_files\"\n",
    "\n",
    "# Find all CSV files in the folder\n",
    "csv_files = glob.glob(os.path.join(folder_path, \"*.csv\"))\n",
    "\n",
    "# Read and concatenate all CSVs into one DataFrame\n",
    "df = pd.concat((pd.read_csv(file) for file in csv_files), ignore_index=True)\n",
    "\n",
    "# Show the combined DataFrame\n",
    "df = df[df[\"Experiment\"] == \"FR_pause\"]\n",
    "df.head()"
   ]
  },
  {
   "cell_type": "markdown",
   "id": "7b879a2a",
   "metadata": {},
   "source": [
    "# Get positions and amount of correct recall"
   ]
  },
  {
   "cell_type": "code",
   "execution_count": 2,
   "id": "48943879",
   "metadata": {},
   "outputs": [
    {
     "data": {
      "text/html": [
       "<div>\n",
       "<style scoped>\n",
       "    .dataframe tbody tr th:only-of-type {\n",
       "        vertical-align: middle;\n",
       "    }\n",
       "\n",
       "    .dataframe tbody tr th {\n",
       "        vertical-align: top;\n",
       "    }\n",
       "\n",
       "    .dataframe thead th {\n",
       "        text-align: right;\n",
       "    }\n",
       "</style>\n",
       "<table border=\"1\" class=\"dataframe\">\n",
       "  <thead>\n",
       "    <tr style=\"text-align: right;\">\n",
       "      <th></th>\n",
       "      <th>Name</th>\n",
       "      <th>Experiment</th>\n",
       "      <th>Trial</th>\n",
       "      <th>Sequence</th>\n",
       "      <th>Recall</th>\n",
       "      <th>Position correct recall</th>\n",
       "      <th>Amount of correct guesses</th>\n",
       "    </tr>\n",
       "  </thead>\n",
       "  <tbody>\n",
       "    <tr>\n",
       "      <th>60</th>\n",
       "      <td>liv</td>\n",
       "      <td>FR_pause</td>\n",
       "      <td>1</td>\n",
       "      <td>p b c n y j o d x s t h g z f</td>\n",
       "      <td>p b c r y o d x f</td>\n",
       "      <td>0 1 2 4 6 7 8 14</td>\n",
       "      <td>8</td>\n",
       "    </tr>\n",
       "    <tr>\n",
       "      <th>61</th>\n",
       "      <td>liv</td>\n",
       "      <td>FR_pause</td>\n",
       "      <td>2</td>\n",
       "      <td>c u g p a j d r s f e k z q l</td>\n",
       "      <td>c u g p a j x</td>\n",
       "      <td>0 1 2 3 4 5</td>\n",
       "      <td>6</td>\n",
       "    </tr>\n",
       "    <tr>\n",
       "      <th>62</th>\n",
       "      <td>liv</td>\n",
       "      <td>FR_pause</td>\n",
       "      <td>3</td>\n",
       "      <td>a q k h s v e c y p j d i o f</td>\n",
       "      <td>a q k r s i d f</td>\n",
       "      <td>0 1 2 4 11 12 14</td>\n",
       "      <td>7</td>\n",
       "    </tr>\n",
       "    <tr>\n",
       "      <th>63</th>\n",
       "      <td>liv</td>\n",
       "      <td>FR_pause</td>\n",
       "      <td>4</td>\n",
       "      <td>h i j k r g m s q e t u l o p</td>\n",
       "      <td>h i j k m s p u l o</td>\n",
       "      <td>0 1 2 3 6 7 11 12 13 14</td>\n",
       "      <td>10</td>\n",
       "    </tr>\n",
       "    <tr>\n",
       "      <th>64</th>\n",
       "      <td>liv</td>\n",
       "      <td>FR_pause</td>\n",
       "      <td>5</td>\n",
       "      <td>j k e s i p r u o d a y v h n</td>\n",
       "      <td>j k e s p r o u d</td>\n",
       "      <td>0 1 2 3 5 6 7 8 9</td>\n",
       "      <td>9</td>\n",
       "    </tr>\n",
       "  </tbody>\n",
       "</table>\n",
       "</div>"
      ],
      "text/plain": [
       "   Name Experiment  Trial                       Sequence               Recall  \\\n",
       "60  liv   FR_pause      1  p b c n y j o d x s t h g z f    p b c r y o d x f   \n",
       "61  liv   FR_pause      2  c u g p a j d r s f e k z q l        c u g p a j x   \n",
       "62  liv   FR_pause      3  a q k h s v e c y p j d i o f      a q k r s i d f   \n",
       "63  liv   FR_pause      4  h i j k r g m s q e t u l o p  h i j k m s p u l o   \n",
       "64  liv   FR_pause      5  j k e s i p r u o d a y v h n    j k e s p r o u d   \n",
       "\n",
       "    Position correct recall  Amount of correct guesses  \n",
       "60         0 1 2 4 6 7 8 14                          8  \n",
       "61              0 1 2 3 4 5                          6  \n",
       "62         0 1 2 4 11 12 14                          7  \n",
       "63  0 1 2 3 6 7 11 12 13 14                         10  \n",
       "64        0 1 2 3 5 6 7 8 9                          9  "
      ]
     },
     "execution_count": 2,
     "metadata": {},
     "output_type": "execute_result"
    }
   ],
   "source": [
    "def add_position_and_correct_guesses(df, sequence_col=\"Sequence\", recall_col=\"Recall\"):\n",
    "    # Helper function to get correct positions as a string\n",
    "    def get_positions(row):\n",
    "        s = row[sequence_col].split()\n",
    "        r = row[recall_col].split()\n",
    "        positions = []\n",
    "        for i, word in enumerate(s):\n",
    "            if word in r:\n",
    "                positions.append(str(i))\n",
    "        return \" \".join(positions)\n",
    "\n",
    "    # Add column with correct positions\n",
    "    df[\"Position correct recall\"] = df.apply(get_positions, axis=1)\n",
    "    # Add column with amount of correct guesses\n",
    "    df[\"Amount of correct guesses\"] = df[\"Position correct recall\"].apply(lambda x: len(x.split()))\n",
    "    return df\n",
    "\n",
    "df = add_position_and_correct_guesses(df)\n",
    "df.head()"
   ]
  },
  {
   "cell_type": "markdown",
   "id": "65cac5cf",
   "metadata": {},
   "source": [
    "# Primacy and recency effect"
   ]
  },
  {
   "cell_type": "code",
   "execution_count": 3,
   "id": "67bfc7a3",
   "metadata": {},
   "outputs": [
    {
     "name": "stdout",
     "output_type": "stream",
     "text": [
      "Amount of FR experiments: 81\n",
      "Average ammount of correct per experiment: 8.123456790123457\n"
     ]
    }
   ],
   "source": [
    "# Total amount of FR experiments done\n",
    "amount_of_experiments = df.shape[0]\n",
    "print(\"Amount of FR experiments:\", amount_of_experiments)\n",
    "\n",
    "# Combine the lists of the correct positions to 1 big list\n",
    "all_correct_positions= []\n",
    "for row in df[\"Position correct recall\"]:\n",
    "    row = row.split()\n",
    "    all_correct_positions.extend(row)\n",
    "all_correct_positions = [int(x) for x in all_correct_positions]\n",
    "\n",
    "# Average correct\n",
    "average_correct = len(all_correct_positions) / amount_of_experiments\n",
    "print(\"Average ammount of correct per experiment:\", average_correct)\n",
    "\n",
    "# Count of correct guesses for each position\n",
    "correct_per_position= [all_correct_positions.count(position) for position in range(15)]\n",
    "\n",
    "# Percent correct at each position out of all experiments\n",
    "position_correct_percent = [corrects/amount_of_experiments*100 for corrects in correct_per_position] "
   ]
  },
  {
   "cell_type": "code",
   "execution_count": 4,
   "id": "ff0ef017",
   "metadata": {},
   "outputs": [
    {
     "data": {
      "text/plain": [
       "Text(0.5, 1.0, 'Free Recall with Pause')"
      ]
     },
     "execution_count": 4,
     "metadata": {},
     "output_type": "execute_result"
    },
    {
     "data": {
      "image/png": "[encoded data removed]",
      "text/plain": [
       "<Figure size 640x480 with 1 Axes>"
      ]
     },
     "metadata": {},
     "output_type": "display_data"
    }
   ],
   "source": [
    "plt.plot(position_correct_percent, marker=\"o\")\n",
    "plt.xlabel(\"Serial position\")\n",
    "plt.ylim(0,100)\n",
    "plt.ylabel(\"Percent recall\")\n",
    "plt.title(\"Free Recall with Pause\")"
   ]
  },
  {
   "cell_type": "markdown",
   "id": "849ecfc4",
   "metadata": {},
   "source": [
    "# Confidence Interval for amount of correct guesses"
   ]
  },
  {
   "cell_type": "code",
   "execution_count": 5,
   "id": "c8fe2de0",
   "metadata": {},
   "outputs": [
    {
     "data": {
      "text/plain": [
       "array([ 8,  6,  7, 10,  9,  9, 10,  8, 10,  6,  9,  9,  7,  8,  8,  7,  8,\n",
       "        9, 10,  8,  4,  4,  4,  6,  7,  6,  8,  6,  8,  7, 10,  7,  8,  6,\n",
       "        6,  8,  9,  5,  8,  6,  7,  9, 14, 12,  9, 12,  9, 12, 10,  9, 11,\n",
       "        9,  9, 10,  9, 11,  7, 11,  9, 10, 12,  8,  9,  6,  6,  7,  5,  7,\n",
       "        8,  4,  6,  8,  8,  6,  9, 10,  8,  8,  8,  9,  8], dtype=int64)"
      ]
     },
     "execution_count": 5,
     "metadata": {},
     "output_type": "execute_result"
    }
   ],
   "source": [
    "num_correct_in_experiments=df[\"Amount of correct guesses\"].to_numpy()\n",
    "num_correct_in_experiments"
   ]
  },
  {
   "cell_type": "code",
   "execution_count": 6,
   "id": "7f94e0ed",
   "metadata": {},
   "outputs": [
    {
     "data": {
      "text/plain": [
       "ConfidenceInterval(low=7.682074377993381, high=8.564839202253534)"
      ]
     },
     "execution_count": 6,
     "metadata": {},
     "output_type": "execute_result"
    }
   ],
   "source": [
    "x=num_correct_in_experiments\n",
    "stats.ttest_1samp(x,popmean= np.mean(x)).confidence_interval(confidence_level=0.95)"
   ]
  },
  {
   "cell_type": "markdown",
   "id": "ab4e773f",
   "metadata": {},
   "source": [
    "The mean of correct guesses for the pause free recall is \\n\n",
    "$[7.68:8.56]$"
   ]
  }
 ],
 "metadata": {
  "kernelspec": {
   "display_name": "base",
   "language": "python",
   "name": "python3"
  },
  "language_info": {
   "codemirror_mode": {
    "name": "ipython",
    "version": 3
   },
   "file_extension": ".py",
   "mimetype": "text/x-python",
   "name": "python",
   "nbconvert_exporter": "python",
   "pygments_lexer": "ipython3",
   "version": "3.12.11"
  }
 },
 "nbformat": 4,
 "nbformat_minor": 5
}

{
 "cells": [
  {
   "cell_type": "markdown",
   "id": "484025c3",
   "metadata": {},
   "source": [
    "# Merge and read csv_files"
   ]
  },
  {
   "cell_type": "code",
   "execution_count": 1,
   "id": "3c93e55f",
   "metadata": {},
   "outputs": [
    {
     "data": {
      "text/html": [
       "<div>\n",
       "<style scoped>\n",
       "    .dataframe tbody tr th:only-of-type {\n",
       "        vertical-align: middle;\n",
       "    }\n",
       "\n",
       "    .dataframe tbody tr th {\n",
       "        vertical-align: top;\n",
       "    }\n",
       "\n",
       "    .dataframe thead th {\n",
       "        text-align: right;\n",
       "    }\n",
       "</style>\n",
       "<table border=\"1\" class=\"dataframe\">\n",
       "  <thead>\n",
       "    <tr style=\"text-align: right;\">\n",
       "      <th></th>\n",
       "      <th>Name</th>\n",
       "      <th>Experiment</th>\n",
       "      <th>Trial</th>\n",
       "      <th>Sequence</th>\n",
       "      <th>Recall</th>\n",
       "    </tr>\n",
       "  </thead>\n",
       "  <tbody>\n",
       "    <tr>\n",
       "      <th>40</th>\n",
       "      <td>liv</td>\n",
       "      <td>FR_increasing_rate</td>\n",
       "      <td>1</td>\n",
       "      <td>m t i g j y s x d o e r a q z</td>\n",
       "      <td>m t g i j y s n a q</td>\n",
       "    </tr>\n",
       "    <tr>\n",
       "      <th>41</th>\n",
       "      <td>liv</td>\n",
       "      <td>FR_increasing_rate</td>\n",
       "      <td>2</td>\n",
       "      <td>t o y n m v r u j p h i s b d</td>\n",
       "      <td>t o y m r u j s b d</td>\n",
       "    </tr>\n",
       "    <tr>\n",
       "      <th>42</th>\n",
       "      <td>liv</td>\n",
       "      <td>FR_increasing_rate</td>\n",
       "      <td>3</td>\n",
       "      <td>n q m x c s y e f k v g b l h</td>\n",
       "      <td>m q n c s b l h</td>\n",
       "    </tr>\n",
       "    <tr>\n",
       "      <th>43</th>\n",
       "      <td>liv</td>\n",
       "      <td>FR_increasing_rate</td>\n",
       "      <td>4</td>\n",
       "      <td>p n b h c m z a v j l q y f g</td>\n",
       "      <td>p n b m c a g b</td>\n",
       "    </tr>\n",
       "    <tr>\n",
       "      <th>44</th>\n",
       "      <td>liv</td>\n",
       "      <td>FR_increasing_rate</td>\n",
       "      <td>5</td>\n",
       "      <td>f j k v i t s y r z n c g a o</td>\n",
       "      <td>f j k v i c a o</td>\n",
       "    </tr>\n",
       "  </tbody>\n",
       "</table>\n",
       "</div>"
      ],
      "text/plain": [
       "   Name          Experiment  Trial                       Sequence  \\\n",
       "40  liv  FR_increasing_rate      1  m t i g j y s x d o e r a q z   \n",
       "41  liv  FR_increasing_rate      2  t o y n m v r u j p h i s b d   \n",
       "42  liv  FR_increasing_rate      3  n q m x c s y e f k v g b l h   \n",
       "43  liv  FR_increasing_rate      4  p n b h c m z a v j l q y f g   \n",
       "44  liv  FR_increasing_rate      5  f j k v i t s y r z n c g a o   \n",
       "\n",
       "                 Recall  \n",
       "40  m t g i j y s n a q  \n",
       "41  t o y m r u j s b d  \n",
       "42      m q n c s b l h  \n",
       "43      p n b m c a g b  \n",
       "44      f j k v i c a o  "
      ]
     },
     "execution_count": 1,
     "metadata": {},
     "output_type": "execute_result"
    }
   ],
   "source": [
    "import pandas as pd\n",
    "import glob\n",
    "import os\n",
    "import numpy as np\n",
    "import matplotlib.pyplot as plt\n",
    "import scipy.stats as stats\n",
    "\n",
    "# Path to your folder\n",
    "folder_path = \"../../csv_files\"\n",
    "\n",
    "# Find all CSV files in the folder\n",
    "csv_files = glob.glob(os.path.join(folder_path, \"*.csv\"))\n",
    "\n",
    "# Read and concatenate all CSVs into one DataFrame\n",
    "df = pd.concat((pd.read_csv(file) for file in csv_files), ignore_index=True)\n",
    "\n",
    "# Show the combined DataFrame\n",
    "df = df[df[\"Experiment\"] == \"FR_increasing_rate\"]\n",
    "df.head()"
   ]
  },
  {
   "cell_type": "markdown",
   "id": "68a13cc5",
   "metadata": {},
   "source": [
    "# Get positions and amount of correct recall"
   ]
  },
  {
   "cell_type": "code",
   "execution_count": 2,
   "id": "386da532",
   "metadata": {},
   "outputs": [
    {
     "data": {
      "text/html": [
       "<div>\n",
       "<style scoped>\n",
       "    .dataframe tbody tr th:only-of-type {\n",
       "        vertical-align: middle;\n",
       "    }\n",
       "\n",
       "    .dataframe tbody tr th {\n",
       "        vertical-align: top;\n",
       "    }\n",
       "\n",
       "    .dataframe thead th {\n",
       "        text-align: right;\n",
       "    }\n",
       "</style>\n",
       "<table border=\"1\" class=\"dataframe\">\n",
       "  <thead>\n",
       "    <tr style=\"text-align: right;\">\n",
       "      <th></th>\n",
       "      <th>Name</th>\n",
       "      <th>Experiment</th>\n",
       "      <th>Trial</th>\n",
       "      <th>Sequence</th>\n",
       "      <th>Recall</th>\n",
       "      <th>Position correct recall</th>\n",
       "      <th>Amount of correct guesses</th>\n",
       "    </tr>\n",
       "  </thead>\n",
       "  <tbody>\n",
       "    <tr>\n",
       "      <th>40</th>\n",
       "      <td>liv</td>\n",
       "      <td>FR_increasing_rate</td>\n",
       "      <td>1</td>\n",
       "      <td>m t i g j y s x d o e r a q z</td>\n",
       "      <td>m t g i j y s n a q</td>\n",
       "      <td>0 1 2 3 4 5 6 12 13</td>\n",
       "      <td>9</td>\n",
       "    </tr>\n",
       "    <tr>\n",
       "      <th>41</th>\n",
       "      <td>liv</td>\n",
       "      <td>FR_increasing_rate</td>\n",
       "      <td>2</td>\n",
       "      <td>t o y n m v r u j p h i s b d</td>\n",
       "      <td>t o y m r u j s b d</td>\n",
       "      <td>0 1 2 4 6 7 8 12 13 14</td>\n",
       "      <td>10</td>\n",
       "    </tr>\n",
       "    <tr>\n",
       "      <th>42</th>\n",
       "      <td>liv</td>\n",
       "      <td>FR_increasing_rate</td>\n",
       "      <td>3</td>\n",
       "      <td>n q m x c s y e f k v g b l h</td>\n",
       "      <td>m q n c s b l h</td>\n",
       "      <td>0 1 2 4 5 12 13 14</td>\n",
       "      <td>8</td>\n",
       "    </tr>\n",
       "    <tr>\n",
       "      <th>43</th>\n",
       "      <td>liv</td>\n",
       "      <td>FR_increasing_rate</td>\n",
       "      <td>4</td>\n",
       "      <td>p n b h c m z a v j l q y f g</td>\n",
       "      <td>p n b m c a g b</td>\n",
       "      <td>0 1 2 4 5 7 14</td>\n",
       "      <td>7</td>\n",
       "    </tr>\n",
       "    <tr>\n",
       "      <th>44</th>\n",
       "      <td>liv</td>\n",
       "      <td>FR_increasing_rate</td>\n",
       "      <td>5</td>\n",
       "      <td>f j k v i t s y r z n c g a o</td>\n",
       "      <td>f j k v i c a o</td>\n",
       "      <td>0 1 2 3 4 11 13 14</td>\n",
       "      <td>8</td>\n",
       "    </tr>\n",
       "  </tbody>\n",
       "</table>\n",
       "</div>"
      ],
      "text/plain": [
       "   Name          Experiment  Trial                       Sequence  \\\n",
       "40  liv  FR_increasing_rate      1  m t i g j y s x d o e r a q z   \n",
       "41  liv  FR_increasing_rate      2  t o y n m v r u j p h i s b d   \n",
       "42  liv  FR_increasing_rate      3  n q m x c s y e f k v g b l h   \n",
       "43  liv  FR_increasing_rate      4  p n b h c m z a v j l q y f g   \n",
       "44  liv  FR_increasing_rate      5  f j k v i t s y r z n c g a o   \n",
       "\n",
       "                 Recall Position correct recall  Amount of correct guesses  \n",
       "40  m t g i j y s n a q     0 1 2 3 4 5 6 12 13                          9  \n",
       "41  t o y m r u j s b d  0 1 2 4 6 7 8 12 13 14                         10  \n",
       "42      m q n c s b l h      0 1 2 4 5 12 13 14                          8  \n",
       "43      p n b m c a g b          0 1 2 4 5 7 14                          7  \n",
       "44      f j k v i c a o      0 1 2 3 4 11 13 14                          8  "
      ]
     },
     "execution_count": 2,
     "metadata": {},
     "output_type": "execute_result"
    }
   ],
   "source": [
    "def add_position_and_correct_guesses(df, sequence_col=\"Sequence\", recall_col=\"Recall\"):\n",
    "    # Helper function to get correct positions as a string\n",
    "    def get_positions(row):\n",
    "        s = row[sequence_col].split()\n",
    "        r = row[recall_col].split()\n",
    "        positions = []\n",
    "        for i, word in enumerate(s):\n",
    "            if word in r:\n",
    "                positions.append(str(i))\n",
    "        return \" \".join(positions)\n",
    "\n",
    "    # Add column with correct positions\n",
    "    df[\"Position correct recall\"] = df.apply(get_positions, axis=1)\n",
    "    # Add column with amount of correct guesses\n",
    "    df[\"Amount of correct guesses\"] = df[\"Position correct recall\"].apply(lambda x: len(x.split()))\n",
    "    return df\n",
    "\n",
    "df = add_position_and_correct_guesses(df)\n",
    "df.head()"
   ]
  },
  {
   "cell_type": "markdown",
   "id": "792ad96d",
   "metadata": {},
   "source": [
    "# Primacy and recency effect"
   ]
  },
  {
   "cell_type": "code",
   "execution_count": 3,
   "id": "3c0ac929",
   "metadata": {},
   "outputs": [
    {
     "name": "stdout",
     "output_type": "stream",
     "text": [
      "Amount of FR experiments: 80\n",
      "Average ammount of correct per experiment: 7.85\n"
     ]
    }
   ],
   "source": [
    "# Total amount of FR experiments done\n",
    "amount_of_experiments = df.shape[0]\n",
    "print(\"Amount of FR experiments:\", amount_of_experiments)\n",
    "\n",
    "# Combine the lists of the correct positions to 1 big list\n",
    "all_correct_positions= []\n",
    "for row in df[\"Position correct recall\"]:\n",
    "    row = row.split()\n",
    "    all_correct_positions.extend(row)\n",
    "all_correct_positions = [int(x) for x in all_correct_positions]\n",
    "\n",
    "# Average correct\n",
    "average_correct = len(all_correct_positions) / amount_of_experiments\n",
    "print(\"Average ammount of correct per experiment:\", average_correct)\n",
    "\n",
    "# Count of correct guesses for each position\n",
    "correct_per_position= [all_correct_positions.count(position) for position in range(15)]\n",
    "\n",
    "# Percent correct at each position out of all experiments\n",
    "position_correct_percent = [corrects/amount_of_experiments*100 for corrects in correct_per_position] "
   ]
  },
  {
   "cell_type": "code",
   "execution_count": 4,
   "id": "8fd34c22",
   "metadata": {},
   "outputs": [
    {
     "data": {
      "text/plain": [
       "Text(0.5, 1.0, 'Free Recall Increased Rate')"
      ]
     },
     "execution_count": 4,
     "metadata": {},
     "output_type": "execute_result"
    },
    {
     "data": {
      "image/png": "[encoded data removed]",
      "text/plain": [
       "<Figure size 640x480 with 1 Axes>"
      ]
     },
     "metadata": {},
     "output_type": "display_data"
    }
   ],
   "source": [
    "plt.plot(position_correct_percent, marker=\"o\")\n",
    "plt.xlabel(\"Serial position\")\n",
    "plt.ylim(0,100)\n",
    "plt.ylabel(\"Percent recall\")\n",
    "plt.title(\"Free Recall Increased Rate\")"
   ]
  },
  {
   "cell_type": "markdown",
   "id": "506846e0",
   "metadata": {},
   "source": [
    "# Confidence Interval for amount of correct guesses"
   ]
  },
  {
   "cell_type": "code",
   "execution_count": 5,
   "id": "bc4a1c32",
   "metadata": {},
   "outputs": [
    {
     "data": {
      "text/plain": [
       "array([ 9, 10,  8,  7,  8,  7,  7,  8,  6,  6,  7,  7,  8,  8,  7,  8,  9,\n",
       "        6,  9,  9, 10,  6,  9,  6,  6,  6,  6,  7,  7,  6,  5,  7,  7,  7,\n",
       "        7,  6,  7,  9,  2,  5, 11, 11, 10, 10, 11,  9,  8,  8, 10,  9, 10,\n",
       "       11, 12, 10, 10,  9,  9, 11,  9,  9,  5,  8,  8,  8,  6,  8,  8,  6,\n",
       "        6,  6,  8,  9,  8,  6,  8,  8,  9,  6,  8,  7], dtype=int64)"
      ]
     },
     "execution_count": 5,
     "metadata": {},
     "output_type": "execute_result"
    }
   ],
   "source": [
    "num_correct_in_experiments=df[\"Amount of correct guesses\"].to_numpy()\n",
    "num_correct_in_experiments"
   ]
  },
  {
   "cell_type": "code",
   "execution_count": 6,
   "id": "5bbcd8c5",
   "metadata": {},
   "outputs": [
    {
     "data": {
      "text/plain": [
       "(7.457140912445319, 8.24285908755468)"
      ]
     },
     "execution_count": 6,
     "metadata": {},
     "output_type": "execute_result"
    }
   ],
   "source": [
    "x = num_correct_in_experiments\n",
    "stats.t.interval(0.95, df = len(x)-1 , loc = x.mean(), scale = x.std(ddof=1)/np.sqrt(len(x)))"
   ]
  },
  {
   "cell_type": "markdown",
   "id": "569e784f",
   "metadata": {},
   "source": [
    "The confidence interval for the mean of correct guesses for the FR increased rate experiment is:"
   ]
  },
  {
   "cell_type": "markdown",
   "id": "a1f83a83",
   "metadata": {},
   "source": [
    "$[7.46 : 8.24]$"
   ]
  }
 ],
 "metadata": {
  "kernelspec": {
   "display_name": "base",
   "language": "python",
   "name": "python3"
  },
  "language_info": {
   "codemirror_mode": {
    "name": "ipython",
    "version": 3
   },
   "file_extension": ".py",
   "mimetype": "text/x-python",
   "name": "python",
   "nbconvert_exporter": "python",
   "pygments_lexer": "ipython3",
   "version": "3.12.11"
  }
 },
 "nbformat": 4,
 "nbformat_minor": 5
}

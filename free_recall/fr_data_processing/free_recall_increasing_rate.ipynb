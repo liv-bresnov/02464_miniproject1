{
 "cells": [
  {
   "cell_type": "markdown",
   "id": "484025c3",
   "metadata": {},
   "source": [
    "# Merge and read csv_files"
   ]
  },
  {
   "cell_type": "code",
   "execution_count": 14,
   "id": "3c93e55f",
   "metadata": {},
   "outputs": [
    {
     "data": {
      "text/html": [
       "<div>\n",
       "<style scoped>\n",
       "    .dataframe tbody tr th:only-of-type {\n",
       "        vertical-align: middle;\n",
       "    }\n",
       "\n",
       "    .dataframe tbody tr th {\n",
       "        vertical-align: top;\n",
       "    }\n",
       "\n",
       "    .dataframe thead th {\n",
       "        text-align: right;\n",
       "    }\n",
       "</style>\n",
       "<table border=\"1\" class=\"dataframe\">\n",
       "  <thead>\n",
       "    <tr style=\"text-align: right;\">\n",
       "      <th></th>\n",
       "      <th>Name</th>\n",
       "      <th>Experiment</th>\n",
       "      <th>Trial</th>\n",
       "      <th>Sequence</th>\n",
       "      <th>Recall</th>\n",
       "    </tr>\n",
       "  </thead>\n",
       "  <tbody>\n",
       "    <tr>\n",
       "      <th>0</th>\n",
       "      <td>av</td>\n",
       "      <td>FR_increasing_rate</td>\n",
       "      <td>1</td>\n",
       "      <td>t n c e u h f g b x z m l s p</td>\n",
       "      <td>m s l p b n x e f g</td>\n",
       "    </tr>\n",
       "    <tr>\n",
       "      <th>1</th>\n",
       "      <td>av</td>\n",
       "      <td>FR_increasing_rate</td>\n",
       "      <td>2</td>\n",
       "      <td>l j c p t o h f y i d v u e z</td>\n",
       "      <td>z e u v t l</td>\n",
       "    </tr>\n",
       "    <tr>\n",
       "      <th>2</th>\n",
       "      <td>av</td>\n",
       "      <td>FR_increasing_rate</td>\n",
       "      <td>3</td>\n",
       "      <td>g u f z j y t s b c e d r x l</td>\n",
       "      <td>d r x l f u z g b</td>\n",
       "    </tr>\n",
       "    <tr>\n",
       "      <th>3</th>\n",
       "      <td>av</td>\n",
       "      <td>FR_increasing_rate</td>\n",
       "      <td>4</td>\n",
       "      <td>e n u k f y s x r q o c p g j</td>\n",
       "      <td>c j e f x g</td>\n",
       "    </tr>\n",
       "    <tr>\n",
       "      <th>4</th>\n",
       "      <td>av</td>\n",
       "      <td>FR_increasing_rate</td>\n",
       "      <td>5</td>\n",
       "      <td>b i x o m d a g v s c z p h n</td>\n",
       "      <td>b i x o n s</td>\n",
       "    </tr>\n",
       "  </tbody>\n",
       "</table>\n",
       "</div>"
      ],
      "text/plain": [
       "  Name          Experiment  Trial                       Sequence  \\\n",
       "0   av  FR_increasing_rate      1  t n c e u h f g b x z m l s p   \n",
       "1   av  FR_increasing_rate      2  l j c p t o h f y i d v u e z   \n",
       "2   av  FR_increasing_rate      3  g u f z j y t s b c e d r x l   \n",
       "3   av  FR_increasing_rate      4  e n u k f y s x r q o c p g j   \n",
       "4   av  FR_increasing_rate      5  b i x o m d a g v s c z p h n   \n",
       "\n",
       "                Recall  \n",
       "0  m s l p b n x e f g  \n",
       "1          z e u v t l  \n",
       "2    d r x l f u z g b  \n",
       "3          c j e f x g  \n",
       "4          b i x o n s  "
      ]
     },
     "execution_count": 14,
     "metadata": {},
     "output_type": "execute_result"
    }
   ],
   "source": [
    "import pandas as pd\n",
    "import glob\n",
    "import os\n",
    "import numpy as np\n",
    "import matplotlib.pyplot as plt\n",
    "import scipy.stats as stats\n",
    "\n",
    "# Path to your folder\n",
    "folder_path = \"../../csv_files\"\n",
    "\n",
    "# Find all CSV files in the folder\n",
    "csv_files = glob.glob(os.path.join(folder_path, \"*.csv\"))\n",
    "\n",
    "# Read and concatenate all CSVs into one DataFrame\n",
    "df = pd.concat((pd.read_csv(file) for file in csv_files), ignore_index=True)\n",
    "\n",
    "# Show the combined DataFrame\n",
    "df = df[df[\"Experiment\"] == \"FR_increasing_rate\"]\n",
    "df.head()"
   ]
  },
  {
   "cell_type": "markdown",
   "id": "68a13cc5",
   "metadata": {},
   "source": [
    "# Get positions and amount of correct recall"
   ]
  },
  {
   "cell_type": "code",
   "execution_count": 15,
   "id": "386da532",
   "metadata": {},
   "outputs": [
    {
     "data": {
      "text/html": [
       "<div>\n",
       "<style scoped>\n",
       "    .dataframe tbody tr th:only-of-type {\n",
       "        vertical-align: middle;\n",
       "    }\n",
       "\n",
       "    .dataframe tbody tr th {\n",
       "        vertical-align: top;\n",
       "    }\n",
       "\n",
       "    .dataframe thead th {\n",
       "        text-align: right;\n",
       "    }\n",
       "</style>\n",
       "<table border=\"1\" class=\"dataframe\">\n",
       "  <thead>\n",
       "    <tr style=\"text-align: right;\">\n",
       "      <th></th>\n",
       "      <th>Name</th>\n",
       "      <th>Experiment</th>\n",
       "      <th>Trial</th>\n",
       "      <th>Sequence</th>\n",
       "      <th>Recall</th>\n",
       "      <th>Position correct recall</th>\n",
       "      <th>Amount of correct guesses</th>\n",
       "    </tr>\n",
       "  </thead>\n",
       "  <tbody>\n",
       "    <tr>\n",
       "      <th>0</th>\n",
       "      <td>av</td>\n",
       "      <td>FR_increasing_rate</td>\n",
       "      <td>1</td>\n",
       "      <td>t n c e u h f g b x z m l s p</td>\n",
       "      <td>m s l p b n x e f g</td>\n",
       "      <td>1 3 6 7 8 9 11 12 13 14</td>\n",
       "      <td>10</td>\n",
       "    </tr>\n",
       "    <tr>\n",
       "      <th>1</th>\n",
       "      <td>av</td>\n",
       "      <td>FR_increasing_rate</td>\n",
       "      <td>2</td>\n",
       "      <td>l j c p t o h f y i d v u e z</td>\n",
       "      <td>z e u v t l</td>\n",
       "      <td>0 4 11 12 13 14</td>\n",
       "      <td>6</td>\n",
       "    </tr>\n",
       "    <tr>\n",
       "      <th>2</th>\n",
       "      <td>av</td>\n",
       "      <td>FR_increasing_rate</td>\n",
       "      <td>3</td>\n",
       "      <td>g u f z j y t s b c e d r x l</td>\n",
       "      <td>d r x l f u z g b</td>\n",
       "      <td>0 1 2 3 8 11 12 13 14</td>\n",
       "      <td>9</td>\n",
       "    </tr>\n",
       "    <tr>\n",
       "      <th>3</th>\n",
       "      <td>av</td>\n",
       "      <td>FR_increasing_rate</td>\n",
       "      <td>4</td>\n",
       "      <td>e n u k f y s x r q o c p g j</td>\n",
       "      <td>c j e f x g</td>\n",
       "      <td>0 4 7 11 13 14</td>\n",
       "      <td>6</td>\n",
       "    </tr>\n",
       "    <tr>\n",
       "      <th>4</th>\n",
       "      <td>av</td>\n",
       "      <td>FR_increasing_rate</td>\n",
       "      <td>5</td>\n",
       "      <td>b i x o m d a g v s c z p h n</td>\n",
       "      <td>b i x o n s</td>\n",
       "      <td>0 1 2 3 9 14</td>\n",
       "      <td>6</td>\n",
       "    </tr>\n",
       "  </tbody>\n",
       "</table>\n",
       "</div>"
      ],
      "text/plain": [
       "  Name          Experiment  Trial                       Sequence  \\\n",
       "0   av  FR_increasing_rate      1  t n c e u h f g b x z m l s p   \n",
       "1   av  FR_increasing_rate      2  l j c p t o h f y i d v u e z   \n",
       "2   av  FR_increasing_rate      3  g u f z j y t s b c e d r x l   \n",
       "3   av  FR_increasing_rate      4  e n u k f y s x r q o c p g j   \n",
       "4   av  FR_increasing_rate      5  b i x o m d a g v s c z p h n   \n",
       "\n",
       "                Recall  Position correct recall  Amount of correct guesses  \n",
       "0  m s l p b n x e f g  1 3 6 7 8 9 11 12 13 14                         10  \n",
       "1          z e u v t l          0 4 11 12 13 14                          6  \n",
       "2    d r x l f u z g b    0 1 2 3 8 11 12 13 14                          9  \n",
       "3          c j e f x g           0 4 7 11 13 14                          6  \n",
       "4          b i x o n s             0 1 2 3 9 14                          6  "
      ]
     },
     "execution_count": 15,
     "metadata": {},
     "output_type": "execute_result"
    }
   ],
   "source": [
    "def add_position_and_correct_guesses(df, sequence_col=\"Sequence\", recall_col=\"Recall\"):\n",
    "    # Helper function to get correct positions as a string\n",
    "    def get_positions(row):\n",
    "        s = row[sequence_col].split()\n",
    "        r = row[recall_col].split()\n",
    "        positions = []\n",
    "        for i, word in enumerate(s):\n",
    "            if word in r:\n",
    "                positions.append(str(i))\n",
    "        return \" \".join(positions)\n",
    "\n",
    "    # Add column with correct positions\n",
    "    df[\"Position correct recall\"] = df.apply(get_positions, axis=1)\n",
    "    # Add column with amount of correct guesses\n",
    "    df[\"Amount of correct guesses\"] = df[\"Position correct recall\"].apply(lambda x: len(x.split()))\n",
    "    return df\n",
    "\n",
    "df = add_position_and_correct_guesses(df)\n",
    "df.head()"
   ]
  },
  {
   "cell_type": "markdown",
   "id": "792ad96d",
   "metadata": {},
   "source": [
    "# Primacy and recency effect"
   ]
  },
  {
   "cell_type": "code",
   "execution_count": 8,
   "id": "3c0ac929",
   "metadata": {},
   "outputs": [
    {
     "name": "stdout",
     "output_type": "stream",
     "text": [
      "Amount of FR experiments: 60\n",
      "Average ammount of correct per experiment: 8.033333333333333\n"
     ]
    }
   ],
   "source": [
    "# Total amount of FR experiments done\n",
    "amount_of_experiments = df.shape[0]\n",
    "print(\"Amount of FR experiments:\", amount_of_experiments)\n",
    "\n",
    "# Combine the lists of the correct positions to 1 big list\n",
    "all_correct_positions= []\n",
    "for row in df[\"Position correct recall\"]:\n",
    "    row = row.split()\n",
    "    all_correct_positions.extend(row)\n",
    "all_correct_positions = [int(x) for x in all_correct_positions]\n",
    "\n",
    "# Average correct\n",
    "average_correct = len(all_correct_positions) / amount_of_experiments\n",
    "print(\"Average ammount of correct per experiment:\", average_correct)\n",
    "\n",
    "# Count of correct guesses for each position\n",
    "correct_per_position= [all_correct_positions.count(position) for position in range(15)]\n",
    "\n",
    "# Percent correct at each position out of all experiments\n",
    "position_correct_percent = [corrects/amount_of_experiments*100 for corrects in correct_per_position] "
   ]
  },
  {
   "cell_type": "code",
   "execution_count": 16,
   "id": "8fd34c22",
   "metadata": {},
   "outputs": [
    {
     "data": {
      "text/plain": [
       "Text(0.5, 1.0, 'Free Recall Increased Rate')"
      ]
     },
     "execution_count": 16,
     "metadata": {},
     "output_type": "execute_result"
    },
    {
     "data": {
      "image/png": "[encoded data removed]",
      "text/plain": [
       "<Figure size 640x480 with 1 Axes>"
      ]
     },
     "metadata": {},
     "output_type": "display_data"
    }
   ],
   "source": [
    "plt.plot(position_correct_percent, marker=\"o\")\n",
    "plt.xlabel(\"Serial position\")\n",
    "plt.ylim(0,100)\n",
    "plt.ylabel(\"Percent recall\")\n",
    "plt.title(\"Free Recall Increased Rate\")"
   ]
  },
  {
   "cell_type": "markdown",
   "id": "506846e0",
   "metadata": {},
   "source": [
    "# Confidence Interval for amount of correct guesses"
   ]
  },
  {
   "cell_type": "code",
   "execution_count": 10,
   "id": "bc4a1c32",
   "metadata": {},
   "outputs": [
    {
     "data": {
      "text/plain": [
       "array([10,  6,  9,  6,  6,  6,  6,  7,  7,  6,  5,  7,  7,  7,  7,  6,  7,\n",
       "        9,  2,  5, 11, 11, 10, 10, 11,  9,  8,  8, 10,  9, 10, 11, 12, 10,\n",
       "       10,  9,  9, 11,  9,  9,  9, 10,  8,  7,  8,  7,  7,  8,  6,  6,  7,\n",
       "        7,  8,  8,  7,  8,  9,  6,  9,  9])"
      ]
     },
     "execution_count": 10,
     "metadata": {},
     "output_type": "execute_result"
    }
   ],
   "source": [
    "num_correct_in_experiments=df[\"Amount of correct guesses\"].to_numpy()\n",
    "num_correct_in_experiments"
   ]
  },
  {
   "cell_type": "code",
   "execution_count": 11,
   "id": "5bbcd8c5",
   "metadata": {},
   "outputs": [
    {
     "data": {
      "text/plain": [
       "(np.float64(7.54373031228522), np.float64(8.522936354381446))"
      ]
     },
     "execution_count": 11,
     "metadata": {},
     "output_type": "execute_result"
    }
   ],
   "source": [
    "x = num_correct_in_experiments\n",
    "stats.t.interval(0.95, df = len(x)-1 , loc = x.mean(), scale = x.std(ddof=1)/np.sqrt(len(x)))"
   ]
  },
  {
   "cell_type": "markdown",
   "id": "569e784f",
   "metadata": {},
   "source": [
    "The confidence interval for the mean of correct guesses for the FR increased rate experiment is:"
   ]
  },
  {
   "cell_type": "markdown",
   "id": "a1f83a83",
   "metadata": {},
   "source": [
    "$[7.54 : 8.52]$"
   ]
  }
 ],
 "metadata": {
  "kernelspec": {
   "display_name": "base",
   "language": "python",
   "name": "python3"
  },
  "language_info": {
   "codemirror_mode": {
    "name": "ipython",
    "version": 3
   },
   "file_extension": ".py",
   "mimetype": "text/x-python",
   "name": "python",
   "nbconvert_exporter": "python",
   "pygments_lexer": "ipython3",
   "version": "3.11.9"
  }
 },
 "nbformat": 4,
 "nbformat_minor": 5
}

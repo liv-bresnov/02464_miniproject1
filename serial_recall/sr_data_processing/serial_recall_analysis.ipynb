{
 "cells": [
  {
   "cell_type": "markdown",
   "id": "b80339db",
   "metadata": {},
   "source": [
    "# Merge and read csv_files"
   ]
  },
  {
   "cell_type": "code",
   "execution_count": 1,
   "id": "215502b1",
   "metadata": {},
   "outputs": [
    {
     "name": "stdout",
     "output_type": "stream",
     "text": [
      "   Name Experiment  Trial                       Sequence         Recall\n",
      "20  liv         SR      1  b q v t z d e s x r h p f i g  b g q t z d e\n",
      "21  liv         SR      2  n d r z u c e g x k h i v a f    n d r z q e\n",
      "22  liv         SR      3  f t l n j v r a h i x p k m z    f t n l j v\n",
      "23  liv         SR      4  r c u l h z s a v q j n g x k  r t u l z s a\n",
      "24  liv         SR      5  k l i v c d n m a e o p b y g  k l i v c d n\n"
     ]
    }
   ],
   "source": [
    "import pandas as pd\n",
    "import glob\n",
    "import os\n",
    "\n",
    "# Path to your folder\n",
    "folder_path = \"../../csv_files\"\n",
    "\n",
    "# Find all CSV files in the folder\n",
    "csv_files = glob.glob(os.path.join(folder_path, \"*.csv\"))\n",
    "\n",
    "# Read and concatenate all CSVs into one DataFrame\n",
    "df = pd.concat((pd.read_csv(file) for file in csv_files), ignore_index=True)\n",
    "\n",
    "# Keep only rows where Experiment == \"SR\"\n",
    "df = df[df[\"Experiment\"] == \"SR\"]\n",
    "\n",
    "# Show the combined DataFrame\n",
    "print(df.head())"
   ]
  },
  {
   "cell_type": "code",
   "execution_count": 2,
   "id": "498afa2b",
   "metadata": {},
   "outputs": [
    {
     "data": {
      "text/html": [
       "<div>\n",
       "<style scoped>\n",
       "    .dataframe tbody tr th:only-of-type {\n",
       "        vertical-align: middle;\n",
       "    }\n",
       "\n",
       "    .dataframe tbody tr th {\n",
       "        vertical-align: top;\n",
       "    }\n",
       "\n",
       "    .dataframe thead th {\n",
       "        text-align: right;\n",
       "    }\n",
       "</style>\n",
       "<table border=\"1\" class=\"dataframe\">\n",
       "  <thead>\n",
       "    <tr style=\"text-align: right;\">\n",
       "      <th></th>\n",
       "      <th>Name</th>\n",
       "      <th>Experiment</th>\n",
       "      <th>Trial</th>\n",
       "      <th>Sequence</th>\n",
       "      <th>Recall</th>\n",
       "      <th>points</th>\n",
       "      <th>fails</th>\n",
       "    </tr>\n",
       "  </thead>\n",
       "  <tbody>\n",
       "    <tr>\n",
       "      <th>20</th>\n",
       "      <td>liv</td>\n",
       "      <td>SR</td>\n",
       "      <td>1</td>\n",
       "      <td>b q v t z d e s x r h p f i g</td>\n",
       "      <td>b g q t z d e</td>\n",
       "      <td>1</td>\n",
       "      <td>[(q, g), (v, q)]</td>\n",
       "    </tr>\n",
       "    <tr>\n",
       "      <th>21</th>\n",
       "      <td>liv</td>\n",
       "      <td>SR</td>\n",
       "      <td>2</td>\n",
       "      <td>n d r z u c e g x k h i v a f</td>\n",
       "      <td>n d r z q e</td>\n",
       "      <td>4</td>\n",
       "      <td>[(u, q), (c, e)]</td>\n",
       "    </tr>\n",
       "    <tr>\n",
       "      <th>22</th>\n",
       "      <td>liv</td>\n",
       "      <td>SR</td>\n",
       "      <td>3</td>\n",
       "      <td>f t l n j v r a h i x p k m z</td>\n",
       "      <td>f t n l j v</td>\n",
       "      <td>2</td>\n",
       "      <td>[(l, n), (n, l)]</td>\n",
       "    </tr>\n",
       "    <tr>\n",
       "      <th>23</th>\n",
       "      <td>liv</td>\n",
       "      <td>SR</td>\n",
       "      <td>4</td>\n",
       "      <td>r c u l h z s a v q j n g x k</td>\n",
       "      <td>r t u l z s a</td>\n",
       "      <td>1</td>\n",
       "      <td>[(c, t), (h, z), (z, s), (s, a)]</td>\n",
       "    </tr>\n",
       "    <tr>\n",
       "      <th>24</th>\n",
       "      <td>liv</td>\n",
       "      <td>SR</td>\n",
       "      <td>5</td>\n",
       "      <td>k l i v c d n m a e o p b y g</td>\n",
       "      <td>k l i v c d n</td>\n",
       "      <td>7</td>\n",
       "      <td>[]</td>\n",
       "    </tr>\n",
       "    <tr>\n",
       "      <th>25</th>\n",
       "      <td>liv</td>\n",
       "      <td>SR</td>\n",
       "      <td>6</td>\n",
       "      <td>h g r z m l o f e c i u q v k</td>\n",
       "      <td>h g r z m l o f</td>\n",
       "      <td>8</td>\n",
       "      <td>[]</td>\n",
       "    </tr>\n",
       "    <tr>\n",
       "      <th>26</th>\n",
       "      <td>liv</td>\n",
       "      <td>SR</td>\n",
       "      <td>7</td>\n",
       "      <td>b d z f i v l r a n e y m p j</td>\n",
       "      <td>b l z f m v i n</td>\n",
       "      <td>1</td>\n",
       "      <td>[(d, l), (i, m), (l, i), (r, n)]</td>\n",
       "    </tr>\n",
       "    <tr>\n",
       "      <th>27</th>\n",
       "      <td>liv</td>\n",
       "      <td>SR</td>\n",
       "      <td>8</td>\n",
       "      <td>k l a n u q d e v c s x z g m</td>\n",
       "      <td>k l a n u q d e v c l s x</td>\n",
       "      <td>10</td>\n",
       "      <td>[(s, l), (x, s), (z, x)]</td>\n",
       "    </tr>\n",
       "    <tr>\n",
       "      <th>28</th>\n",
       "      <td>liv</td>\n",
       "      <td>SR</td>\n",
       "      <td>9</td>\n",
       "      <td>s e q a z j c y v r d o t l f</td>\n",
       "      <td>k l a n e q j c</td>\n",
       "      <td>0</td>\n",
       "      <td>[(s, k), (e, l), (q, a), (a, n), (z, e), (j, q...</td>\n",
       "    </tr>\n",
       "    <tr>\n",
       "      <th>29</th>\n",
       "      <td>liv</td>\n",
       "      <td>SR</td>\n",
       "      <td>10</td>\n",
       "      <td>s d a r b l c t h j y x z q o</td>\n",
       "      <td>s d a r b l c t h</td>\n",
       "      <td>9</td>\n",
       "      <td>[]</td>\n",
       "    </tr>\n",
       "  </tbody>\n",
       "</table>\n",
       "</div>"
      ],
      "text/plain": [
       "   Name Experiment  Trial                       Sequence  \\\n",
       "20  liv         SR      1  b q v t z d e s x r h p f i g   \n",
       "21  liv         SR      2  n d r z u c e g x k h i v a f   \n",
       "22  liv         SR      3  f t l n j v r a h i x p k m z   \n",
       "23  liv         SR      4  r c u l h z s a v q j n g x k   \n",
       "24  liv         SR      5  k l i v c d n m a e o p b y g   \n",
       "25  liv         SR      6  h g r z m l o f e c i u q v k   \n",
       "26  liv         SR      7  b d z f i v l r a n e y m p j   \n",
       "27  liv         SR      8  k l a n u q d e v c s x z g m   \n",
       "28  liv         SR      9  s e q a z j c y v r d o t l f   \n",
       "29  liv         SR     10  s d a r b l c t h j y x z q o   \n",
       "\n",
       "                       Recall  points  \\\n",
       "20              b g q t z d e       1   \n",
       "21                n d r z q e       4   \n",
       "22                f t n l j v       2   \n",
       "23              r t u l z s a       1   \n",
       "24              k l i v c d n       7   \n",
       "25            h g r z m l o f       8   \n",
       "26            b l z f m v i n       1   \n",
       "27  k l a n u q d e v c l s x      10   \n",
       "28            k l a n e q j c       0   \n",
       "29          s d a r b l c t h       9   \n",
       "\n",
       "                                                fails  \n",
       "20                                   [(q, g), (v, q)]  \n",
       "21                                   [(u, q), (c, e)]  \n",
       "22                                   [(l, n), (n, l)]  \n",
       "23                   [(c, t), (h, z), (z, s), (s, a)]  \n",
       "24                                                 []  \n",
       "25                                                 []  \n",
       "26                   [(d, l), (i, m), (l, i), (r, n)]  \n",
       "27                           [(s, l), (x, s), (z, x)]  \n",
       "28  [(s, k), (e, l), (q, a), (a, n), (z, e), (j, q...  \n",
       "29                                                 []  "
      ]
     },
     "execution_count": 2,
     "metadata": {},
     "output_type": "execute_result"
    }
   ],
   "source": [
    "df[\"points\"] = 0   # initialize column\n",
    "df[\"fails\"] = [[] for _ in range(len(df))]  # initialize fails as empty lists\n",
    "\n",
    "for idx, row in df.iterrows():\n",
    "    seq = row[\"Sequence\"].split()\n",
    "    rec = row[\"Recall\"].split()\n",
    "    \n",
    "    points = 0\n",
    "    fails = []\n",
    "    mistake_found = False\n",
    "    \n",
    "    for s, r in zip(seq, rec):\n",
    "        if not mistake_found and s == r:\n",
    "            points += 1\n",
    "        elif s != r:\n",
    "            fails.append((s, r))\n",
    "            mistake_found = True  # lock the points counter\n",
    "    \n",
    "    # save results back into df\n",
    "    df.at[idx, \"points\"] = points\n",
    "    df.at[idx, \"fails\"] = fails\n",
    "\n",
    "\n",
    "df.head(10)"
   ]
  },
  {
   "cell_type": "markdown",
   "id": "ad1a8546",
   "metadata": {},
   "source": [
    "# Confusion matrix"
   ]
  },
  {
   "cell_type": "code",
   "execution_count": 6,
   "id": "c18a2a4c",
   "metadata": {},
   "outputs": [
    {
     "name": "stdout",
     "output_type": "stream",
     "text": [
      "[('q', 'g'), ('u', 'q'), ('l', 'n'), ('c', 't'), ('d', 'l'), ('s', 'l'), ('s', 'o'), ('u', 'o'), ('u', 'n'), ('g', 'a'), ('u', 'o'), ('a', 'u'), ('a', 'g'), ('v', 'c'), ('t', 'u'), ('o', 'u'), ('c', 'v'), ('k', 'f'), ('r', 'i'), ('f', 'u'), ('l', 'n'), ('b', 'j'), ('z', 'm'), ('n', 'u'), ('g', 'z'), ('s', 'z'), ('e', 'n'), ('n', 'i'), ('e', 'x'), ('s', 'x'), ('u', 'i'), ('h', 'k'), ('l', 'j'), ('o', 'h'), ('c', 'k'), ('c', 'p'), ('k', 'q'), ('h', 'p'), ('p', 'b'), ('j', 'l'), ('y', 'l'), ('k', 'z'), ('a', 'k'), ('z', 'k'), ('s', 'i'), ('a', 'r'), ('a', 'r'), ('y', 'i'), ('p', 's'), ('y', 'i'), ('t', 'b'), ('q', 'b'), ('v', 'k')]\n"
     ]
    },
    {
     "data": {
      "image/png": "[encoded data removed]",
      "text/plain": [
       "<Figure size 1000x800 with 2 Axes>"
      ]
     },
     "metadata": {},
     "output_type": "display_data"
    }
   ],
   "source": [
    "from collections import Counter\n",
    "import seaborn as sns\n",
    "\n",
    "import matplotlib.pyplot as plt\n",
    "\n",
    "# Flatten all (s, r) pairs in fails column\n",
    "all_fails = [pair for sublist in df[\"fails\"] for pair in sublist]\n",
    "first_fails = [sublist[0] for sublist in df[\"fails\"] if sublist]\n",
    "print(first_fails)\n",
    "\n",
    "# Count occurrences of each (s, r) pair\n",
    "fail_counts = Counter(all_fails)\n",
    "\n",
    "# Get sorted unique letters for axis labels\n",
    "letters = sorted(set([s for s, _ in all_fails] + [r for _, r in all_fails]))\n",
    "\n",
    "# Create confusion matrix DataFrame\n",
    "conf_matrix = pd.DataFrame(0, index=letters, columns=letters)\n",
    "for (s, r), count in fail_counts.items():\n",
    "    conf_matrix.loc[s, r] = count\n",
    "\n",
    "# Plot confusion matrix\n",
    "plt.figure(figsize=(10, 8))\n",
    "sns.heatmap(conf_matrix, annot=True, fmt=\"d\", cmap=\"Blues\")\n",
    "plt.xlabel(\"Recalled letter\")\n",
    "plt.ylabel(\"Presented letter\")\n",
    "plt.title(\"Confusion Matrix of Letter Pairs in Fails\")\n",
    "plt.show()"
   ]
  },
  {
   "cell_type": "markdown",
   "id": "2f9c7403",
   "metadata": {},
   "source": [
    "## Points analysis"
   ]
  },
  {
   "cell_type": "code",
   "execution_count": 4,
   "id": "9cae725d",
   "metadata": {},
   "outputs": [
    {
     "name": "stdout",
     "output_type": "stream",
     "text": [
      "3.8\n"
     ]
    },
    {
     "data": {
      "text/plain": [
       "ConfidenceInterval(low=3.186297713541645, high=4.413702286458355)"
      ]
     },
     "execution_count": 4,
     "metadata": {},
     "output_type": "execute_result"
    }
   ],
   "source": [
    "import scipy.stats as stats\n",
    "import numpy as np\n",
    "points=df['points'].to_numpy()\n",
    "print(np.mean(points))\n",
    "stats.ttest_1samp(points,popmean= np.mean(points)).confidence_interval(confidence_level=0.95)"
   ]
  },
  {
   "cell_type": "code",
   "execution_count": 5,
   "id": "0d27fbc0",
   "metadata": {},
   "outputs": [
    {
     "name": "stdout",
     "output_type": "stream",
     "text": [
      "4.108108108108108\n"
     ]
    },
    {
     "data": {
      "text/plain": [
       "ConfidenceInterval(low=3.4974596953575934, high=4.718756520858622)"
      ]
     },
     "execution_count": 5,
     "metadata": {},
     "output_type": "execute_result"
    }
   ],
   "source": [
    "df=df[df['points']!=0]\n",
    "points=df['points'].to_numpy()\n",
    "print(np.mean(points))\n",
    "stats.ttest_1samp(points,popmean= np.mean(points)).confidence_interval(confidence_level=0.95)"
   ]
  },
  {
   "cell_type": "markdown",
   "id": "ad0288fe",
   "metadata": {},
   "source": [
    "### Only first fails"
   ]
  },
  {
   "cell_type": "code",
   "execution_count": null,
   "id": "117ef9f4",
   "metadata": {},
   "outputs": [],
   "source": []
  }
 ],
 "metadata": {
  "kernelspec": {
   "display_name": "base",
   "language": "python",
   "name": "python3"
  },
  "language_info": {
   "codemirror_mode": {
    "name": "ipython",
    "version": 3
   },
   "file_extension": ".py",
   "mimetype": "text/x-python",
   "name": "python",
   "nbconvert_exporter": "python",
   "pygments_lexer": "ipython3",
   "version": "3.12.11"
  }
 },
 "nbformat": 4,
 "nbformat_minor": 5
}

{
 "cells": [
  {
   "cell_type": "markdown",
   "id": "2ff47e62",
   "metadata": {},
   "source": [
    "# Merge and read csv_files"
   ]
  },
  {
   "cell_type": "code",
   "execution_count": 1,
   "id": "e06b9caa",
   "metadata": {},
   "outputs": [
    {
     "name": "stdout",
     "output_type": "stream",
     "text": [
      "    Name   Experiment  Trial  \\\n",
      "100  liv  SR_chunking      1   \n",
      "101  liv  SR_chunking      2   \n",
      "102  liv  SR_chunking      3   \n",
      "103  liv  SR_chunking      4   \n",
      "104  liv  SR_chunking      5   \n",
      "\n",
      "                                              Sequence  \\\n",
      "100  air per run won out two top law due guy win cu...   \n",
      "101  and hey cut but get yes see out all one put so...   \n",
      "102  age and are any cup yet its men see for day go...   \n",
      "103  lot day the but tax dog son try how two for sa...   \n",
      "104  die did big its put had ask was key low law fu...   \n",
      "\n",
      "                              Recall  \n",
      "100          air per run won out too  \n",
      "101                  mom run got but  \n",
      "102  age and are any cup yet its men  \n",
      "103          lot day the but tax dog  \n",
      "104          die did big its put hat  \n"
     ]
    }
   ],
   "source": [
    "import pandas as pd\n",
    "import glob\n",
    "import os\n",
    "\n",
    "# Path to your folder\n",
    "folder_path = \"../../csv_files\"\n",
    "\n",
    "# Find all CSV files in the folder\n",
    "csv_files = glob.glob(os.path.join(folder_path, \"*.csv\"))\n",
    "\n",
    "# Read and concatenate all CSVs into one DataFrame\n",
    "df = pd.concat((pd.read_csv(file) for file in csv_files), ignore_index=True)\n",
    "\n",
    "# Keep only rows where Experiment == \"SR\"\n",
    "df = df[df[\"Experiment\"] == \"SR_chunking\"]\n",
    "\n",
    "# Show the combined DataFrame\n",
    "print(df.head())"
   ]
  },
  {
   "cell_type": "code",
   "execution_count": 2,
   "id": "96ab908a",
   "metadata": {},
   "outputs": [
    {
     "data": {
      "text/html": [
       "<div>\n",
       "<style scoped>\n",
       "    .dataframe tbody tr th:only-of-type {\n",
       "        vertical-align: middle;\n",
       "    }\n",
       "\n",
       "    .dataframe tbody tr th {\n",
       "        vertical-align: top;\n",
       "    }\n",
       "\n",
       "    .dataframe thead th {\n",
       "        text-align: right;\n",
       "    }\n",
       "</style>\n",
       "<table border=\"1\" class=\"dataframe\">\n",
       "  <thead>\n",
       "    <tr style=\"text-align: right;\">\n",
       "      <th></th>\n",
       "      <th>Name</th>\n",
       "      <th>Experiment</th>\n",
       "      <th>Trial</th>\n",
       "      <th>Sequence</th>\n",
       "      <th>Recall</th>\n",
       "      <th>points</th>\n",
       "      <th>fails</th>\n",
       "    </tr>\n",
       "  </thead>\n",
       "  <tbody>\n",
       "    <tr>\n",
       "      <th>100</th>\n",
       "      <td>liv</td>\n",
       "      <td>SR_chunking</td>\n",
       "      <td>1</td>\n",
       "      <td>air per run won out two top law due guy win cu...</td>\n",
       "      <td>air per run won out too</td>\n",
       "      <td>5</td>\n",
       "      <td>[(two, too)]</td>\n",
       "    </tr>\n",
       "    <tr>\n",
       "      <th>101</th>\n",
       "      <td>liv</td>\n",
       "      <td>SR_chunking</td>\n",
       "      <td>2</td>\n",
       "      <td>and hey cut but get yes see out all one put so...</td>\n",
       "      <td>mom run got but</td>\n",
       "      <td>0</td>\n",
       "      <td>[(and, mom), (hey, run), (cut, got)]</td>\n",
       "    </tr>\n",
       "    <tr>\n",
       "      <th>102</th>\n",
       "      <td>liv</td>\n",
       "      <td>SR_chunking</td>\n",
       "      <td>3</td>\n",
       "      <td>age and are any cup yet its men see for day go...</td>\n",
       "      <td>age and are any cup yet its men</td>\n",
       "      <td>8</td>\n",
       "      <td>[]</td>\n",
       "    </tr>\n",
       "    <tr>\n",
       "      <th>103</th>\n",
       "      <td>liv</td>\n",
       "      <td>SR_chunking</td>\n",
       "      <td>4</td>\n",
       "      <td>lot day the but tax dog son try how two for sa...</td>\n",
       "      <td>lot day the but tax dog</td>\n",
       "      <td>6</td>\n",
       "      <td>[]</td>\n",
       "    </tr>\n",
       "    <tr>\n",
       "      <th>104</th>\n",
       "      <td>liv</td>\n",
       "      <td>SR_chunking</td>\n",
       "      <td>5</td>\n",
       "      <td>die did big its put had ask was key low law fu...</td>\n",
       "      <td>die did big its put hat</td>\n",
       "      <td>5</td>\n",
       "      <td>[(had, hat)]</td>\n",
       "    </tr>\n",
       "    <tr>\n",
       "      <th>105</th>\n",
       "      <td>liv</td>\n",
       "      <td>SR_chunking</td>\n",
       "      <td>6</td>\n",
       "      <td>eat all who ago six two car new bit man guy le...</td>\n",
       "      <td>est all who ago six two car</td>\n",
       "      <td>0</td>\n",
       "      <td>[(eat, est)]</td>\n",
       "    </tr>\n",
       "    <tr>\n",
       "      <th>106</th>\n",
       "      <td>liv</td>\n",
       "      <td>SR_chunking</td>\n",
       "      <td>7</td>\n",
       "      <td>few cut bed law any add bit job own age one to...</td>\n",
       "      <td>few cut bed law any add bit</td>\n",
       "      <td>7</td>\n",
       "      <td>[]</td>\n",
       "    </tr>\n",
       "    <tr>\n",
       "      <th>107</th>\n",
       "      <td>liv</td>\n",
       "      <td>SR_chunking</td>\n",
       "      <td>8</td>\n",
       "      <td>him red way non pay hot guy bed hit ask law wh...</td>\n",
       "      <td>him red way non bet cut</td>\n",
       "      <td>4</td>\n",
       "      <td>[(pay, bet), (hot, cut)]</td>\n",
       "    </tr>\n",
       "    <tr>\n",
       "      <th>108</th>\n",
       "      <td>liv</td>\n",
       "      <td>SR_chunking</td>\n",
       "      <td>9</td>\n",
       "      <td>her led pay was hey tax lot can air ask yet pe...</td>\n",
       "      <td>her led pay was hey tax cut</td>\n",
       "      <td>6</td>\n",
       "      <td>[(lot, cut)]</td>\n",
       "    </tr>\n",
       "    <tr>\n",
       "      <th>109</th>\n",
       "      <td>liv</td>\n",
       "      <td>SR_chunking</td>\n",
       "      <td>10</td>\n",
       "      <td>oil lot man has eat add saw guy act put for ye...</td>\n",
       "      <td>oil let man has eat</td>\n",
       "      <td>1</td>\n",
       "      <td>[(lot, let)]</td>\n",
       "    </tr>\n",
       "  </tbody>\n",
       "</table>\n",
       "</div>"
      ],
      "text/plain": [
       "    Name   Experiment  Trial  \\\n",
       "100  liv  SR_chunking      1   \n",
       "101  liv  SR_chunking      2   \n",
       "102  liv  SR_chunking      3   \n",
       "103  liv  SR_chunking      4   \n",
       "104  liv  SR_chunking      5   \n",
       "105  liv  SR_chunking      6   \n",
       "106  liv  SR_chunking      7   \n",
       "107  liv  SR_chunking      8   \n",
       "108  liv  SR_chunking      9   \n",
       "109  liv  SR_chunking     10   \n",
       "\n",
       "                                              Sequence  \\\n",
       "100  air per run won out two top law due guy win cu...   \n",
       "101  and hey cut but get yes see out all one put so...   \n",
       "102  age and are any cup yet its men see for day go...   \n",
       "103  lot day the but tax dog son try how two for sa...   \n",
       "104  die did big its put had ask was key low law fu...   \n",
       "105  eat all who ago six two car new bit man guy le...   \n",
       "106  few cut bed law any add bit job own age one to...   \n",
       "107  him red way non pay hot guy bed hit ask law wh...   \n",
       "108  her led pay was hey tax lot can air ask yet pe...   \n",
       "109  oil lot man has eat add saw guy act put for ye...   \n",
       "\n",
       "                              Recall  points  \\\n",
       "100          air per run won out too       5   \n",
       "101                  mom run got but       0   \n",
       "102  age and are any cup yet its men       8   \n",
       "103          lot day the but tax dog       6   \n",
       "104          die did big its put hat       5   \n",
       "105      est all who ago six two car       0   \n",
       "106      few cut bed law any add bit       7   \n",
       "107          him red way non bet cut       4   \n",
       "108      her led pay was hey tax cut       6   \n",
       "109              oil let man has eat       1   \n",
       "\n",
       "                                    fails  \n",
       "100                          [(two, too)]  \n",
       "101  [(and, mom), (hey, run), (cut, got)]  \n",
       "102                                    []  \n",
       "103                                    []  \n",
       "104                          [(had, hat)]  \n",
       "105                          [(eat, est)]  \n",
       "106                                    []  \n",
       "107              [(pay, bet), (hot, cut)]  \n",
       "108                          [(lot, cut)]  \n",
       "109                          [(lot, let)]  "
      ]
     },
     "execution_count": 2,
     "metadata": {},
     "output_type": "execute_result"
    }
   ],
   "source": [
    "df[\"points\"] = 0   # initialize column\n",
    "df[\"fails\"] = [[] for _ in range(len(df))]  # initialize fails as empty lists\n",
    "\n",
    "for idx, row in df.iterrows():\n",
    "    seq = row[\"Sequence\"].split()\n",
    "    rec = row[\"Recall\"].split()\n",
    "    \n",
    "    points = 0\n",
    "    fails = []\n",
    "    mistake_found = False\n",
    "    \n",
    "    for s, r in zip(seq, rec):\n",
    "        if not mistake_found and s == r:\n",
    "            points += 1\n",
    "        elif s != r:\n",
    "            fails.append((s, r))\n",
    "            mistake_found = True  # lock the points counter\n",
    "    \n",
    "    # save results back into df\n",
    "    df.at[idx, \"points\"] = points\n",
    "    df.at[idx, \"fails\"] = fails\n",
    "\n",
    "df.head(10)"
   ]
  },
  {
   "cell_type": "markdown",
   "id": "64260f51",
   "metadata": {},
   "source": [
    "## Points analysis"
   ]
  },
  {
   "cell_type": "code",
   "execution_count": 4,
   "id": "acd27773",
   "metadata": {},
   "outputs": [
    {
     "name": "stdout",
     "output_type": "stream",
     "text": [
      "10.8\n"
     ]
    },
    {
     "data": {
      "text/plain": [
       "ConfidenceInterval(low=9.068816647218586, high=12.531183352781415)"
      ]
     },
     "execution_count": 4,
     "metadata": {},
     "output_type": "execute_result"
    }
   ],
   "source": [
    "import scipy.stats as stats\n",
    "import numpy as np\n",
    "points=df['points'].to_numpy()*3\n",
    "print(np.mean(points))\n",
    "stats.ttest_1samp(points,popmean= np.mean(points)).confidence_interval(confidence_level=0.95)"
   ]
  },
  {
   "cell_type": "code",
   "execution_count": 5,
   "id": "4dbaa6d5",
   "metadata": {},
   "outputs": [
    {
     "name": "stdout",
     "output_type": "stream",
     "text": [
      "3.6\n"
     ]
    },
    {
     "data": {
      "text/plain": [
       "ConfidenceInterval(low=3.022938882406195, high=4.177061117593805)"
      ]
     },
     "execution_count": 5,
     "metadata": {},
     "output_type": "execute_result"
    }
   ],
   "source": [
    "points=df['points'].to_numpy()\n",
    "print(np.mean(points))\n",
    "stats.ttest_1samp(points,popmean= np.mean(points)).confidence_interval(confidence_level=0.95)"
   ]
  }
 ],
 "metadata": {
  "kernelspec": {
   "display_name": "base",
   "language": "python",
   "name": "python3"
  },
  "language_info": {
   "codemirror_mode": {
    "name": "ipython",
    "version": 3
   },
   "file_extension": ".py",
   "mimetype": "text/x-python",
   "name": "python",
   "nbconvert_exporter": "python",
   "pygments_lexer": "ipython3",
   "version": "3.12.11"
  }
 },
 "nbformat": 4,
 "nbformat_minor": 5
}
